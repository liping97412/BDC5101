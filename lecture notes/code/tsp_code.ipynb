{
 "cells": [
  {
   "cell_type": "markdown",
   "metadata": {},
   "source": [
    "# Code for Traveling Salesman Problem"
   ]
  },
  {
   "cell_type": "markdown",
   "metadata": {},
   "source": [
    "### Model by Miller, Tucker and Zemlin\n",
    "\n",
    "\\begin{equation}\n",
    "\\begin{split}\n",
    "\\min~ & \\sum_{i=1}^n\\sum_{j=1}^nc_{ij}x_{ij} \\\\\n",
    "s.t. ~& \\sum_{i=1}^nx_{ij} =1, ~ j =1,...,n\\\\\n",
    "& \\sum_{j=1}^nx_{ij} =1, ~ i =1,...,n\\\\\n",
    "& u_i + 1 - u_j \\leq M(1 - x_{ij}), ~ i\\neq j, 1\\leq i\\leq n, 2\\leq j \\leq n \\\\ \n",
    "& x_{ij}\\in\\{0,1\\}, u_i\\geq 0, i =1,...,n.\n",
    "\\end{split}\n",
    "\\end{equation}"
   ]
  },
  {
   "cell_type": "code",
   "execution_count": 1,
   "metadata": {},
   "outputs": [],
   "source": [
    "from gurobipy import *\n",
    "import numpy as np\n",
    "\n",
    "#########Parameters Set-up############\n",
    "\n",
    "#traveling cost from node i to node j\n",
    "cost = np.array([[1000, 4, 2, 1000, 1000, 1000],\n",
    "                 [0, 1000, 6, 1000, 1, 7], \n",
    "                 [0, 6, 1000, 2, 1, 1000],\n",
    "                 [0, 1000, 2, 1000, 1, 3],\n",
    "                 [0, 1, 1, 1, 1000, 1], \n",
    "                 [0, 7, 1000, 3, 1, 1000]])\n",
    "\n",
    "N = cost.shape[0]\n",
    "\n",
    "#the big M\n",
    "M = 10000"
   ]
  },
  {
   "cell_type": "code",
   "execution_count": 2,
   "metadata": {},
   "outputs": [
    {
     "name": "stdout",
     "output_type": "stream",
     "text": [
      "Academic license - for non-commercial use only\n",
      "Optimize a model with 42 rows, 42 columns and 152 nonzeros\n",
      "Variable types: 6 continuous, 36 integer (36 binary)\n",
      "Coefficient statistics:\n",
      "  Matrix range     [1e+00, 1e+04]\n",
      "  Objective range  [1e+00, 1e+03]\n",
      "  Bounds range     [1e+00, 1e+00]\n",
      "  RHS range        [1e+00, 1e+04]\n",
      "Found heuristic solution: objective 2010.0000000\n",
      "Presolve removed 5 rows and 6 columns\n",
      "Presolve time: 0.11s\n",
      "Presolved: 37 rows, 36 columns, 152 nonzeros\n",
      "Variable types: 5 continuous, 31 integer (31 binary)\n",
      "\n",
      "Root relaxation: objective 9.000000e+00, 23 iterations, 0.04 seconds\n",
      "\n",
      "    Nodes    |    Current Node    |     Objective Bounds      |     Work\n",
      " Expl Unexpl |  Obj  Depth IntInf | Incumbent    BestBd   Gap | It/Node Time\n",
      "\n",
      "     0     0    9.00000    0    4 2010.00000    9.00000   100%     -    0s\n",
      "H    0     0                       9.0000000    9.00000  0.00%     -    0s\n",
      "\n",
      "Explored 1 nodes (23 simplex iterations) in 0.44 seconds\n",
      "Thread count was 4 (of 4 available processors)\n",
      "\n",
      "Solution count 2: 9 2010 \n",
      "\n",
      "Optimal solution found (tolerance 1.00e-04)\n",
      "Best objective 9.000000000000e+00, best bound 9.000000000000e+00, gap 0.0000%\n"
     ]
    }
   ],
   "source": [
    "#########Model Set-up############\n",
    "\n",
    "\n",
    "tsp = Model(\"traveling_salesman\")\n",
    "\n",
    "# Creat variables\n",
    "x = tsp.addVars(N, N, vtype=GRB.BINARY, name = \"x\")\n",
    "\n",
    "u = tsp.addVars(N, name = \"u\")\n",
    "\n",
    "# Set objective\n",
    "tsp.setObjective( quicksum(cost[i,j]*x[i,j] for i in range(N) for j in range(N)), GRB.MINIMIZE)\n",
    "\n",
    "# Assignment constraints:\n",
    "tsp.addConstrs(( quicksum(x[i,j] for j in range(N)) == 1 for i in range(N) ))\n",
    " \n",
    "tsp.addConstrs(( quicksum(x[i,j] for i in range(N)) == 1 for j in range(N) ))\n",
    "\n",
    "# Subtour-breaking constraints:\n",
    "tsp.addConstrs(( u[i] + 1 - u[j] <= M*(1 - x[i,j])  for i in range(N) for j in range(1,N) ))\n",
    "\n",
    "\n",
    "# Solving the model\n",
    "tsp.optimize()\n"
   ]
  },
  {
   "cell_type": "code",
   "execution_count": 3,
   "metadata": {},
   "outputs": [
    {
     "name": "stdout",
     "output_type": "stream",
     "text": [
      "x[0,2] 1.0\n",
      "x[1,0] 1.0\n",
      "x[2,3] 1.0\n",
      "x[3,5] 1.0\n",
      "x[4,1] 1.0\n",
      "x[5,4] 1.0\n",
      "Obj: 9.0\n",
      "[array([1, 3]), array([2, 1]), array([3, 4]), array([4, 6]), array([5, 2]), array([6, 5])]\n",
      "u[0] 0.0\n",
      "u[1] 5.0\n",
      "u[2] 1.0\n",
      "u[3] 2.0\n",
      "u[4] 4.0\n",
      "u[5] 3.0\n"
     ]
    }
   ],
   "source": [
    "#  Print optimal x for x nonzero and optimal value\n",
    "s_edge = []\n",
    "for v in x:    \n",
    "    if x[v].x > 0.001:\n",
    "        print(x[v].VarName, x[v].x)\n",
    "        #add both of the indicies by 1\n",
    "        edge = np.add(v, (1,1))\n",
    "        #append the edge to the resulting list of edges\n",
    "        s_edge.append(edge)\n",
    "\n",
    "\n",
    "print('Obj:', tsp.objVal)\n",
    "print(s_edge)\n",
    "for v in u: \n",
    "    print(u[v].VarName, u[v].x)"
   ]
  },
  {
   "cell_type": "code",
   "execution_count": 44,
   "metadata": {},
   "outputs": [
    {
     "name": "stdout",
     "output_type": "stream",
     "text": [
      "[1. 3. 4. 6. 5. 2.]\n"
     ]
    }
   ],
   "source": [
    "#  Obtain the permutation as a representation of the tour\n",
    "\n",
    "permu = np.ones(N)\n",
    "predecessor = 1\n",
    "for i in range(N):\n",
    "    for s in s_edge:\n",
    "        if s[0] == predecessor:\n",
    "            permu[i] = s[0]\n",
    "            predecessor = s[1]\n",
    "            break    \n",
    "    \n",
    "print(permu)"
   ]
  },
  {
   "cell_type": "markdown",
   "metadata": {},
   "source": [
    "### Precedence constraint:\n",
    "\\begin{equation}\n",
    "u_i\\leq u_j, ~ \\forall (i,j)\\in P.\n",
    "\\end{equation}"
   ]
  },
  {
   "cell_type": "code",
   "execution_count": 50,
   "metadata": {},
   "outputs": [
    {
     "name": "stdout",
     "output_type": "stream",
     "text": [
      "Optimize a model with 45 rows, 42 columns and 158 nonzeros\n",
      "Variable types: 6 continuous, 36 integer (36 binary)\n",
      "Coefficient statistics:\n",
      "  Matrix range     [1e+00, 1e+04]\n",
      "  Objective range  [1e+00, 1e+03]\n",
      "  Bounds range     [1e+00, 1e+00]\n",
      "  RHS range        [1e+00, 1e+04]\n",
      "\n",
      "MIP start did not produce a new incumbent solution\n",
      "\n",
      "Found heuristic solution: objective 1016.0000000\n",
      "Presolve removed 6 rows and 6 columns\n",
      "Presolve time: 0.03s\n",
      "Presolved: 39 rows, 36 columns, 143 nonzeros\n",
      "Variable types: 5 continuous, 31 integer (31 binary)\n",
      "\n",
      "Root relaxation: objective 9.000200e+00, 22 iterations, 0.01 seconds\n",
      "\n",
      "    Nodes    |    Current Node    |     Objective Bounds      |     Work\n",
      " Expl Unexpl |  Obj  Depth IntInf | Incumbent    BestBd   Gap | It/Node Time\n",
      "\n",
      "     0     0    9.00020    0    6 1016.00000    9.00020  99.1%     -    0s\n",
      "H    0     0                    1007.0000000    9.00020  99.1%     -    0s\n",
      "H    0     0                      14.0000000    9.00020  35.7%     -    0s\n",
      "H    0     0                      13.0000000    9.00020  30.8%     -    0s\n",
      "H    0     0                      11.0000000    9.00020  18.2%     -    0s\n",
      "     0     0   10.00000    0   12   11.00000   10.00000  9.09%     -    0s\n",
      "     0     0 infeasible    0        11.00000   11.00000  0.00%     -    0s\n",
      "\n",
      "Explored 1 nodes (40 simplex iterations) in 0.33 seconds\n",
      "Thread count was 8 (of 8 available processors)\n",
      "\n",
      "Solution count 5: 11 13 14 ... 1016\n",
      "\n",
      "Optimal solution found (tolerance 1.00e-04)\n",
      "Best objective 1.100000000000e+01, best bound 1.100000000000e+01, gap 0.0000%\n"
     ]
    }
   ],
   "source": [
    "# data for the precedent pair\n",
    "\n",
    "Precedent_Pair = tuplelist([(0,2), (1,3), (4,5)])\n",
    "\n",
    "\n",
    "tsp.addConstrs( (u[i] <= u[j] for (i,j) in Precedent_Pair)  )\n",
    "\n",
    "\n",
    "# Solving the new model\n",
    "tsp.optimize()\n",
    "\n",
    "\n",
    "\n",
    "\n"
   ]
  },
  {
   "cell_type": "code",
   "execution_count": 51,
   "metadata": {},
   "outputs": [
    {
     "name": "stdout",
     "output_type": "stream",
     "text": [
      "[1. 2. 5. 3. 4. 6.]\n"
     ]
    }
   ],
   "source": [
    "#  The list of edges traversed\n",
    "s_edge = []\n",
    "for v in x:    \n",
    "    if x[v].x > 0.001:\n",
    "        edge = np.add(v, (1,1))\n",
    "        s_edge.append(edge)\n",
    "        \n",
    "#  Obtain the permutation as a representation of the tour\n",
    "permu = np.ones(N)\n",
    "predecessor = 1\n",
    "for i in range(N):\n",
    "    for s in s_edge:\n",
    "        if s[0] == predecessor:\n",
    "            permu[i] = s[0]\n",
    "            predecessor = s[1]\n",
    "            break    \n",
    "    \n",
    "print(permu)"
   ]
  },
  {
   "cell_type": "code",
   "execution_count": null,
   "metadata": {},
   "outputs": [],
   "source": []
  }
 ],
 "metadata": {
  "kernelspec": {
   "display_name": "Python 3",
   "language": "python",
   "name": "python3"
  },
  "language_info": {
   "codemirror_mode": {
    "name": "ipython",
    "version": 3
   },
   "file_extension": ".py",
   "mimetype": "text/x-python",
   "name": "python",
   "nbconvert_exporter": "python",
   "pygments_lexer": "ipython3",
   "version": "3.6.5"
  }
 },
 "nbformat": 4,
 "nbformat_minor": 2
}
