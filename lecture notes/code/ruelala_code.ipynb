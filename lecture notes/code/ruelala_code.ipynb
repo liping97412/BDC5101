{
 "cells": [
  {
   "cell_type": "markdown",
   "metadata": {},
   "source": [
    "# Code for Rue La La's Pricing Problem"
   ]
  },
  {
   "cell_type": "markdown",
   "metadata": {},
   "source": [
    "### Integer programming formulation for a fixed total price $k$:\n",
    "\n",
    "\\begin{equation}\n",
    "\\begin{split}\n",
    "z_k = \\max~ & \\sum_{n=1}^N\\sum_{m=1}^Mp_m D(n,m,k)x_{n,m}\\\\\n",
    "s.t. ~& \\sum_{m=1}^Mx_{n,m} = 1, ~ n=1,...,N\\\\\n",
    "& \\sum_{n=1}^N\\sum_{m=1}^Mp_mx_{n,m} = k,\\\\\n",
    "& x_{n,m}\\in\\{0,1\\}.\n",
    "\\end{split}\n",
    "\\end{equation}\n",
    "Here, $n=1,...,N$ is the index for the products and $m=1,...,M$ is the index for the price point."
   ]
  },
  {
   "cell_type": "code",
   "execution_count": 45,
   "metadata": {},
   "outputs": [
    {
     "name": "stdout",
     "output_type": "stream",
     "text": [
      "[39.99 44.99 49.99 54.99 59.99]\n",
      "[119.97 124.97 129.97 134.97 139.97 144.97 149.97 154.97 159.97 164.97\n",
      " 169.97 174.97 179.97]\n"
     ]
    }
   ],
   "source": [
    "from gurobipy import *\n",
    "import numpy as np\n",
    "\n",
    "\n",
    "#########Parameters Set-up############\n",
    "# For convenience demands are put 0 for impossible scenarios, for example, \n",
    "# the price for product is 39.99 but the total prices is 3x59.99, i.e., the cell demand[0,0,12] below.\n",
    "\n",
    "\n",
    "demand = np.array([   [[30, 32, 33, 35, 38, 40, 44, 50, 50,  0,  0,  0,  0],\n",
    "                       [ 0, 29, 31, 32, 30, 34, 38, 40, 42, 44,  0,  0,  0],\n",
    "                       [ 0,  0, 25, 29, 28, 28, 31, 33, 35, 36, 38,  0,  0],\n",
    "                       [ 0,  0,  0, 10, 18, 18, 20, 21, 24, 26, 26, 27,  0],\n",
    "                       [ 0,  0,  0,  0,  2,  4,  4,  6,  8, 10, 12, 15, 16]],\n",
    "                   \n",
    "                      [[60, 65, 68, 70, 73, 76, 78, 82, 83,  0,  0,  0,  0],\n",
    "                       [ 0, 50, 52, 53, 55, 57, 59, 60, 64, 65,  0,  0,  0],\n",
    "                       [ 0,  0, 28, 35, 37, 40, 42, 43, 43, 44, 45,  0,  0],\n",
    "                       [ 0,  0,  0,  7,  9,  9, 10, 12, 12, 14, 14, 14,  0],\n",
    "                       [ 0,  0,  0,  0,  0,  0,  0,  0,  0,  2,  2,  2,  2]],\n",
    "                   \n",
    "                      [[20, 20, 20, 21, 21, 22, 22, 24, 24,  0,  0,  0,  0],\n",
    "                       [ 0, 20, 20, 20, 21, 21, 21, 22, 22, 22,  0,  0,  0],\n",
    "                       [ 0,  0, 19, 19, 20, 20, 21, 22, 22, 22, 23,  0,  0],\n",
    "                       [ 0,  0,  0, 17, 18, 18, 20, 20, 20, 20, 20, 20,  0],\n",
    "                       [ 0,  0,  0,  0, 15, 15, 15, 16, 18, 16, 17, 17, 18]]      ])\n",
    "\n",
    "# number of product, number of price points, number of total price points\n",
    "N, M, K = demand.shape\n",
    "\n",
    "# minimum and maximum price point\n",
    "min_price = 39.99\n",
    "max_price = 59.99\n",
    "\n",
    "# vector of prices\n",
    "price_v = np.linspace(min_price, max_price, num = M)\n",
    "\n",
    "# vector of all possible total prices\n",
    "total_price_v = np.linspace(N*min_price, N*max_price, num = K)\n",
    "\n",
    "# initialize the index of the total price as the mimnimum one\n",
    "k = 0\n",
    "\n",
    "print(price_v)\n",
    "print(total_price_v)"
   ]
  },
  {
   "cell_type": "code",
   "execution_count": 46,
   "metadata": {},
   "outputs": [],
   "source": [
    "#########Model Set-up############\n",
    "\n",
    "def model_setup():\n",
    "    \n",
    "    m = Model(\"Ruelala\")\n",
    "\n",
    "    # Creat variables\n",
    "    x = m.addVars(N, M, vtype=GRB.BINARY, name = \"x\")\n",
    "    \n",
    "    # set objective\n",
    "    m.setObjective( quicksum(price_v[m]*demand[n,m,k]*x[n,m] for n in range(N) for m in range(M)), GRB.MAXIMIZE)\n",
    "    \n",
    "    # for each product, only one price point can be chosen:\n",
    "    m.addConstrs( ( quicksum(x[n,m] for m in range(M)) == 1 for n in range(N))  )\n",
    "\n",
    "    # total price constraint:\n",
    "    m.addConstr( quicksum(price_v[m]*x[n,m] for n in range(N) for m in range(M)) == total_price_v[k]  ) \n",
    "    \n",
    "    #Supressing the optimization output\n",
    "    m.setParam( 'OutputFlag', False )\n",
    "    \n",
    "    return m\n",
    "\n",
    "\n"
   ]
  },
  {
   "cell_type": "code",
   "execution_count": 47,
   "metadata": {},
   "outputs": [
    {
     "name": "stdout",
     "output_type": "stream",
     "text": [
      "The maximum profit is: 5568.76\n",
      "The optimal price is:  [49.99 39.99 59.99]\n"
     ]
    }
   ],
   "source": [
    "#########Solve the Model for Each Possible Total Price############\n",
    "\n",
    "# initialize the vector of profits\n",
    "profit_v = np.zeros(K)\n",
    "\n",
    "# initialize the vector of optimal prices\n",
    "opt_price_v = np.zeros( (K, N) )\n",
    "\n",
    "for k in range(K):\n",
    "    \n",
    "    # setup the model \n",
    "    m_rll = model_setup()\n",
    "\n",
    "    # solving the model\n",
    "    m_rll.optimize()\n",
    "    \n",
    "    # storing the corresponding information\n",
    "    profit_v[k] = m_rll.objVal\n",
    "    \n",
    "    # extract the variables from the model. NOTE: variables extracted in this way are automatically formatted as a vector\n",
    "    x = m_rll.getVars()\n",
    "    \n",
    "    # reformat the vector as a matrix with dimension NxM\n",
    "    x = np.reshape(x, (N,M))\n",
    "    \n",
    "    for n in range(N):\n",
    "        for m in range(M):\n",
    "            if x[n,m].x == 1:\n",
    "                opt_price_v[k,n] = price_v[m]\n",
    "    \n",
    "\n",
    "# find the total price that maximizes the profit\n",
    "\n",
    "k_max = np.argmax(profit_v)\n",
    "\n",
    "print(\"The maximum profit is: %g\" % profit_v[k_max])\n",
    "\n",
    "print(\"The optimal price is: \", opt_price_v[k_max,:])\n",
    "\n",
    "\n",
    "\n",
    "\n",
    "\n"
   ]
  },
  {
   "cell_type": "code",
   "execution_count": null,
   "metadata": {},
   "outputs": [],
   "source": []
  }
 ],
 "metadata": {
  "kernelspec": {
   "display_name": "Python 3",
   "language": "python",
   "name": "python3"
  },
  "language_info": {
   "codemirror_mode": {
    "name": "ipython",
    "version": 3
   },
   "file_extension": ".py",
   "mimetype": "text/x-python",
   "name": "python",
   "nbconvert_exporter": "python",
   "pygments_lexer": "ipython3",
   "version": "3.6.4"
  }
 },
 "nbformat": 4,
 "nbformat_minor": 2
}
