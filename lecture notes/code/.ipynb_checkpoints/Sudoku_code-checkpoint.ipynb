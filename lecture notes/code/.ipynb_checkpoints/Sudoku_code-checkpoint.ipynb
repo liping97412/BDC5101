{
 "cells": [
  {
   "cell_type": "markdown",
   "metadata": {},
   "source": [
    "# Code for Sudoku Problem"
   ]
  },
  {
   "cell_type": "markdown",
   "metadata": {},
   "source": [
    "### Integer programming formulation:\n",
    "\n",
    "\\begin{equation}\n",
    "\\begin{split}\n",
    "\\min~ & 0 \\\\\n",
    "s.t. ~& x_{ijy_{ij}} =1, ~ y_{ij}\\neq 0\\\\\n",
    "& \\sum_{i=1}^9x_{ijk} = 1, ~ j,k =1,...,9\\\\\n",
    "& \\sum_{j=1}^9x_{ijk} = 1, ~ i,k =1,...,9\\\\\n",
    "& \\sum_{k=1}^9x_{ijk} = 1, ~ i,j =1,...,9\\\\\n",
    "& \\sum_{i=3p-2}^{3p}\\sum_{j=3q-2}^{3q}x_{ijk} = 1, ~ k=1,...,9, p,q =1,2,3\\\\\n",
    "& x_{ijk}\\in\\{0,1\\}.\n",
    "\\end{split}\n",
    "\\end{equation}"
   ]
  },
  {
   "cell_type": "code",
   "execution_count": 41,
   "metadata": {},
   "outputs": [
    {
     "name": "stdout",
     "output_type": "stream",
     "text": [
      "[[8 0 0 6 0 0 9 0 5]\n",
      " [0 0 0 0 0 0 0 0 0]\n",
      " [0 0 0 0 2 0 3 1 0]\n",
      " [0 0 7 3 1 8 0 6 0]\n",
      " [2 4 0 0 0 0 0 7 3]\n",
      " [0 0 0 0 0 0 0 0 0]\n",
      " [0 0 2 7 9 0 1 0 0]\n",
      " [5 0 0 0 8 0 0 3 6]\n",
      " [0 0 3 0 0 0 0 0 0]]\n"
     ]
    }
   ],
   "source": [
    "from gurobipy import *\n",
    "import numpy as np\n",
    "\n",
    "\n",
    "#########Parameters Set-up############\n",
    "\n",
    "y = np.array([[8, 0, 0, 6, 0, 0, 9, 0, 5],\n",
    "              [0, 0, 0, 0, 0, 0, 0, 0, 0],\n",
    "              [0, 0, 0, 0, 2, 0, 3, 1, 0],\n",
    "              [0, 0, 7, 3, 1, 8, 0, 6, 0],\n",
    "              [2, 4, 0, 0, 0, 0, 0, 7, 3],\n",
    "              [0, 0, 0, 0, 0, 0, 0, 0, 0],\n",
    "              [0, 0, 2, 7, 9, 0, 1, 0, 0],\n",
    "              [5, 0, 0, 0, 8, 0, 0, 3, 6], \n",
    "              [0, 0, 3, 0, 0, 0, 0, 0, 0]])\n",
    "\n",
    "print(y)\n",
    "\n",
    "N = y.shape[0]\n"
   ]
  },
  {
   "cell_type": "code",
   "execution_count": 31,
   "metadata": {},
   "outputs": [
    {
     "name": "stdout",
     "output_type": "stream",
     "text": [
      "Optimize a model with 349 rows, 729 columns and 2941 nonzeros\n",
      "Variable types: 0 continuous, 729 integer (729 binary)\n",
      "Coefficient statistics:\n",
      "  Matrix range     [1e+00, 1e+00]\n",
      "  Objective range  [0e+00, 0e+00]\n",
      "  Bounds range     [1e+00, 1e+00]\n",
      "  RHS range        [1e+00, 1e+00]\n",
      "Presolve removed 345 rows and 723 columns\n",
      "Presolve time: 0.16s\n",
      "Presolved: 4 rows, 6 columns, 14 nonzeros\n",
      "Variable types: 0 continuous, 6 integer (6 binary)\n",
      "Found heuristic solution: objective 0.0000000\n",
      "\n",
      "Explored 0 nodes (0 simplex iterations) in 0.21 seconds\n",
      "Thread count was 8 (of 8 available processors)\n",
      "\n",
      "Solution count 1: 0 \n",
      "\n",
      "Optimal solution found (tolerance 1.00e-04)\n",
      "Best objective 0.000000000000e+00, best bound 0.000000000000e+00, gap 0.0000%\n"
     ]
    }
   ],
   "source": [
    "#########Model Set-up############\n",
    "\n",
    "m = Model(\"Sudoku\")\n",
    "\n",
    "# Creat variables\n",
    "x = m.addVars(N, N, N, vtype=GRB.BINARY, name = \"x\")\n",
    "\n",
    "# Set objective\n",
    "m.setObjective(0, GRB.MINIMIZE)\n",
    "\n",
    "# Fill-in constraints:\n",
    "for i in range(N):\n",
    "    for j in range(N):\n",
    "        if y[i,j] > 0:\n",
    "            m.addConstr( x[i,j, y[i,j]-1] == 1 )\n",
    "\n",
    "# For every column, each digit appears only once:\n",
    "m.addConstrs(( quicksum(x[i,j,k] for i in range(N)) == 1  for j in range(N) for k in range(N) ))\n",
    "\n",
    "# For every row, each digit appears only once:\n",
    "m.addConstrs(( quicksum(x[i,j,k] for j in range(N)) == 1  for i in range(N) for k in range(N) ))\n",
    "\n",
    "# For every entry (i,j), only one digit is chosen:\n",
    "m.addConstrs(( quicksum(x[i,j,k] for k in range(N)) == 1  for i in range(N) for j in range(N) ))\n",
    "\n",
    "# For 3x3 square, each digit appear only once\n",
    "m.addConstrs(( quicksum(x[i,j,k] for i in range(3*p, 3*(p+1)) for j in range(3*q, 3*(q+1))) == 1\n",
    "              for k in range(N) for p in range(3) for q in range(3) ))\n",
    "\n",
    "\n",
    "\n",
    "# Solving the model\n",
    "m.optimize()\n",
    "\n",
    "\n"
   ]
  },
  {
   "cell_type": "code",
   "execution_count": 40,
   "metadata": {},
   "outputs": [
    {
     "name": "stdout",
     "output_type": "stream",
     "text": [
      "  8   1   4   6   3   7   9   2   5 \n",
      "\n",
      "  3   2   5   1   4   9   6   8   7 \n",
      "\n",
      "  7   9   6   8   2   5   3   1   4 \n",
      "\n",
      "  9   5   7   3   1   8   4   6   2 \n",
      "\n",
      "  2   4   1   9   5   6   8   7   3 \n",
      "\n",
      "  6   3   8   2   7   4   5   9   1 \n",
      "\n",
      "  4   6   2   7   9   3   1   5   8 \n",
      "\n",
      "  5   7   9   4   8   1   2   3   6 \n",
      "\n",
      "  1   8   3   5   6   2   7   4   9 \n",
      "\n"
     ]
    }
   ],
   "source": [
    "# Print out the solution to the Sudoku problem\n",
    "for i in range(N):\n",
    "    for j in range(N):\n",
    "        for k in range(N):\n",
    "            if x[i,j,k].x == 1:\n",
    "                print(\"%3i\" % (k+1), end =\" \") \n",
    "    print(\"\\n\")\n",
    "    \n",
    "    "
   ]
  },
  {
   "cell_type": "code",
   "execution_count": null,
   "metadata": {},
   "outputs": [],
   "source": []
  },
  {
   "cell_type": "code",
   "execution_count": 1,
   "metadata": {},
   "outputs": [
    {
     "name": "stdout",
     "output_type": "stream",
     "text": [
      "3\n",
      "4\n",
      "5\n"
     ]
    }
   ],
   "source": []
  },
  {
   "cell_type": "code",
   "execution_count": null,
   "metadata": {},
   "outputs": [],
   "source": []
  }
 ],
 "metadata": {
  "kernelspec": {
   "display_name": "Python 3",
   "language": "python",
   "name": "python3"
  },
  "language_info": {
   "codemirror_mode": {
    "name": "ipython",
    "version": 3
   },
   "file_extension": ".py",
   "mimetype": "text/x-python",
   "name": "python",
   "nbconvert_exporter": "python",
   "pygments_lexer": "ipython3",
   "version": "3.6.5"
  }
 },
 "nbformat": 4,
 "nbformat_minor": 2
}
