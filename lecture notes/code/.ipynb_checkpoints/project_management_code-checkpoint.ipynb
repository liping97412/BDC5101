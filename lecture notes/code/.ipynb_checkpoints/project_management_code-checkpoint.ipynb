{
 "cells": [
  {
   "cell_type": "markdown",
   "metadata": {},
   "source": [
    "# Code for Project Management"
   ]
  },
  {
   "cell_type": "markdown",
   "metadata": {},
   "source": [
    "### Example:\n",
    "\n",
    "\\begin{array}{rr} \\hline\n",
    "\\text{Activity} &\\text{Successors} &\\text{Duration} &\\text{Crash Cost} & \\text{Crash Capacity}  \\\\ \\hline\n",
    "1 & 2    & 3 & 1 & 3  \\\\ \n",
    "2 & 3,4    & 1 & 0 & 0  \\\\ \n",
    "3 & 5    & 1 & 0 & 0 \\\\ \n",
    "4 & 6    & 1 & 2 & 1/2 \\\\ \n",
    "5 & 6,7    & 1 & 2 & 1/2\\\\ \n",
    "6 & 8 & 2 & 2 & 1\\\\ \n",
    "7 & 9    & 2 & 2 & 1/2  \\\\ \n",
    "8 & 9    & 1 & 0 & 0 \\\\ \n",
    "9 & - & 1 & 2 & 1/2 \\\\ \n",
    "\\hline\n",
    "\\end{array}"
   ]
  },
  {
   "cell_type": "code",
   "execution_count": 9,
   "metadata": {
    "scrolled": true
   },
   "outputs": [
    {
     "name": "stdout",
     "output_type": "stream",
     "text": [
      "\n",
      " Nodes set is: [1, 2, 3, 4, 5, 6, 7, 8, 9, 10]\n",
      "\n",
      " The duration is: {1: 3, 2: 1, 3: 1, 4: 1, 5: 1, 6: 2, 7: 2, 8: 1, 9: 1, 10: 0}\n",
      "\n",
      " The capacity is: {1: 3.0, 2: 0.0, 3: 0.0, 4: 0.5, 5: 0.5, 6: 1.0, 7: 0.5, 8: 0.0, 9: 0.5, 10: 0.0}\n",
      "\n",
      " The arc set is: \n",
      " <gurobi.tuplelist (11 tuples, 2 values each):\n",
      " ( 1 , 2  )\n",
      " ( 2 , 3  )\n",
      " ( 2 , 4  )\n",
      " ( 3 , 5  )\n",
      " ( 4 , 6  )\n",
      " ( 5 , 6  )\n",
      " ( 5 , 7  )\n",
      " ( 6 , 8  )\n",
      " ( 7 , 9  )\n",
      " ( 8 , 9  )\n",
      " ( 9 , 10 )\n",
      ">\n"
     ]
    }
   ],
   "source": [
    "from gurobipy import *\n",
    "import numpy as np\n",
    "\n",
    "#########Parameters Set-up############\n",
    "\n",
    "NODES = np.arange(1, 11)\n",
    "\n",
    "N_NODES = len(NODES)\n",
    "\n",
    "duration = np.array([3,1,1,1,1,2,2,1,1,0])\n",
    "\n",
    "cost = np.array([1,0,0,2,2,2,2,0,2,0])\n",
    "\n",
    "capacity = np.array([3,0,0,0.5,0.5,1,0.5,0,0.5,0])\n",
    "\n",
    "NODES, duration, cost, capacity = multidict( {NODES[i]: (duration[i], cost[i], capacity[i]) for i in range(N_NODES) })\n",
    "\n",
    "ARCS = tuplelist([(1,2), (2,3), (2,4), (3,5), (4,6), (5,6), (5,7), (6,8), (7,9), (8,9), (9,10)])\n",
    "\n",
    "print(\"\\n Nodes set is:\", NODES)\n",
    "print(\"\\n The duration is:\", duration)\n",
    "print(\"\\n The capacity is:\", capacity)                                            \n",
    "print(\"\\n The arc set is: \\n\", ARCS)\n",
    "\n",
    "N_ARCS = len(ARCS)\n",
    "\n",
    "deadline = 7"
   ]
  },
  {
   "cell_type": "code",
   "execution_count": 10,
   "metadata": {},
   "outputs": [
    {
     "name": "stdout",
     "output_type": "stream",
     "text": [
      "Optimize a model with 12 rows, 20 columns and 34 nonzeros\n",
      "Coefficient statistics:\n",
      "  Matrix range     [1e+00, 1e+00]\n",
      "  Objective range  [1e+00, 2e+00]\n",
      "  Bounds range     [5e-01, 3e+00]\n",
      "  RHS range        [1e+00, 7e+00]\n",
      "Presolve removed 6 rows and 11 columns\n",
      "Presolve time: 0.16s\n",
      "Presolved: 6 rows, 9 columns, 17 nonzeros\n",
      "\n",
      "Iteration    Objective       Primal Inf.    Dual Inf.      Time\n",
      "       0    0.0000000e+00   5.507000e+00   0.000000e+00      0s\n",
      "       4    3.0000000e+00   0.000000e+00   0.000000e+00      0s\n",
      "\n",
      "Solved in 4 iterations and 0.23 seconds\n",
      "Optimal objective  3.000000000e+00\n",
      "\n",
      " Crashing decisions:\n",
      "\n",
      " The duration of activity 1 is crashed by 3 weeks;\n",
      "\n",
      " The duration of activity 2 is crashed by 0 weeks;\n",
      "\n",
      " The duration of activity 3 is crashed by 0 weeks;\n",
      "\n",
      " The duration of activity 4 is crashed by 0 weeks;\n",
      "\n",
      " The duration of activity 5 is crashed by 0 weeks;\n",
      "\n",
      " The duration of activity 6 is crashed by 0 weeks;\n",
      "\n",
      " The duration of activity 7 is crashed by 0 weeks;\n",
      "\n",
      " The duration of activity 8 is crashed by 0 weeks;\n",
      "\n",
      " The duration of activity 9 is crashed by 0 weeks;\n",
      "\n",
      " The duration of activity 10 is crashed by 0 weeks;\n",
      "\n",
      " Project duration:\n",
      "The starting of activity 1 is 0 th week;\n",
      "The starting of activity 2 is 0 th week;\n",
      "The starting of activity 3 is 1 th week;\n",
      "The starting of activity 4 is 1 th week;\n",
      "The starting of activity 5 is 2 th week;\n",
      "The starting of activity 6 is 3 th week;\n",
      "The starting of activity 7 is 4 th week;\n",
      "The starting of activity 8 is 5 th week;\n",
      "The starting of activity 9 is 6 th week;\n",
      "The starting of activity 10 is 7 th week;\n",
      "Obj: 3.0\n"
     ]
    }
   ],
   "source": [
    "#########Model Set-up###############\n",
    "\n",
    "pm = Model(\"project_management\")\n",
    "\n",
    "# Creat variables\n",
    "# the crashing decisions\n",
    "x = pm.addVars(NODES, lb=0.0, ub=capacity)\n",
    "# The starting time of each project\n",
    "y = pm.addVars(NODES)\n",
    "\n",
    "# Set objective\n",
    "pm.setObjective( quicksum(cost[i]*x[i] for i in NODES), GRB.MINIMIZE)\n",
    "\n",
    "# Add precedence constraints: \n",
    "pm.addConstrs(( y[i] - (y[j] + duration[j] - x[j]) >= 0 for (j, i) in ARCS ), \"Precedence\")\n",
    "\n",
    "# Add deadline constraint: \n",
    "pm.addConstr(y[N_NODES] <= deadline, \"Deadline\")\n",
    "\n",
    "# Solving the model\n",
    "pm.optimize()\n",
    "\n",
    "#  Print optimal solutions and optimal value\n",
    "print(\"\\n Crashing decisions:\")\n",
    "for i in NODES:\n",
    "    print(\"\\n The duration of activity %g is crashed by %g weeks;\" % (i, x[i].x))\n",
    "    \n",
    "print(\"\\n Project duration:\")\n",
    "for i in NODES:\n",
    "    print(\"The starting of activity %g is %g th week;\"  % (i, y[i].x))\n",
    "    \n",
    "print('Obj:', pm.objVal)\n"
   ]
  },
  {
   "cell_type": "code",
   "execution_count": null,
   "metadata": {},
   "outputs": [],
   "source": []
  }
 ],
 "metadata": {
  "kernelspec": {
   "display_name": "Python 3",
   "language": "python",
   "name": "python3"
  },
  "language_info": {
   "codemirror_mode": {
    "name": "ipython",
    "version": 3
   },
   "file_extension": ".py",
   "mimetype": "text/x-python",
   "name": "python",
   "nbconvert_exporter": "python",
   "pygments_lexer": "ipython3",
   "version": "3.6.5"
  }
 },
 "nbformat": 4,
 "nbformat_minor": 2
}
