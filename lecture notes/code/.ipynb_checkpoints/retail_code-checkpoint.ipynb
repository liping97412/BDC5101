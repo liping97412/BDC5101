{
 "cells": [
  {
   "cell_type": "markdown",
   "metadata": {},
   "source": [
    "# Code for the Retailer Game"
   ]
  },
  {
   "cell_type": "markdown",
   "metadata": {},
   "source": [
    "###  Suppose there are $n$ price levels with $p_i$ being the $i$-th level price, $1\\leq i\\leq n$, and $D_i$ being the corresponding demand. Let $I$ be the inventory level at the beginning of the selling horizon, $s$ be the salvage value and $T$ be the total number of weeks in the selling horizon. The general problem can be formulated as:\n",
    "\\begin{equation}\n",
    "\\begin{split}\n",
    "\\max~ & \\sum_{i=1}^np_iD_ix_i + s(I - \\sum_{i=1}^nD_ix_i) \\\\\n",
    "s.t. ~& \\sum_{i=1}^nD_ix_i \\leq I \\quad \\text{(capacity)}\\\\\n",
    "& \\sum_{i=1}^nx_i \\leq T, \\quad \\text{(time)}\\\\\n",
    "& x_1\\geq 1, \\quad \\text{(full price)}\\\\\n",
    "& x_i\\geq 0, ~1\\leq i\\leq n.\n",
    "\\end{split}\n",
    "\\end{equation}"
   ]
  },
  {
   "cell_type": "code",
   "execution_count": 1,
   "metadata": {},
   "outputs": [],
   "source": [
    "from gurobipy import *\n",
    "import numpy as np\n",
    "\n",
    "#########Parameters Set-up############\n",
    "\n",
    "#the vector of prices\n",
    "price = np.array([60, 54, 48, 36])\n",
    "#the vector of demands\n",
    "demand = np.array([125, 162.5, 217.5, 348.8])\n",
    "#salvage value\n",
    "s = 25\n",
    "#total number of inventory\n",
    "I = 2000\n",
    "#Time horizon\n",
    "T = 15\n",
    "#full price week\n",
    "full_price_week = 1\n",
    "\n",
    "#number of price levels\n",
    "N = len(price)"
   ]
  },
  {
   "cell_type": "code",
   "execution_count": 2,
   "metadata": {},
   "outputs": [
    {
     "name": "stdout",
     "output_type": "stream",
     "text": [
      "Academic license - for non-commercial use only\n",
      "Optimize a model with 3 rows, 4 columns and 9 nonzeros\n",
      "Coefficient statistics:\n",
      "  Matrix range     [1e+00, 3e+02]\n",
      "  Objective range  [4e+03, 5e+03]\n",
      "  Bounds range     [0e+00, 0e+00]\n",
      "  RHS range        [1e+00, 2e+03]\n",
      "Presolve removed 1 rows and 0 columns\n",
      "Presolve time: 0.16s\n",
      "Presolved: 2 rows, 4 columns, 8 nonzeros\n",
      "\n",
      "Iteration    Objective       Primal Inf.    Dual Inf.      Time\n",
      "       0    1.2000000e+05   1.587200e+01   0.000000e+00      0s\n",
      "       2    1.1675000e+05   0.000000e+00   0.000000e+00      0s\n",
      "\n",
      "Solved in 2 iterations and 0.28 seconds\n",
      "Optimal objective  1.167500000e+05\n",
      "\n",
      " Optimal solution:\n",
      "x[0] 11.666666666666666\n",
      "x[1] 3.333333333333334\n",
      "x[2] 0.0\n",
      "x[3] 0.0\n",
      "\n",
      " Optimal profit:\n",
      "Obj: 116750.0\n",
      "\n",
      " Dual solutions:\n",
      "capacity 9\n",
      "time 3250\n",
      "full_price 0\n"
     ]
    }
   ],
   "source": [
    "#########Model Set-up###############\n",
    "\n",
    "m = Model(\"Retail\")\n",
    "\n",
    "# number of weeks to offer price level i\n",
    "x = m.addVars(N, name = \"x\")\n",
    "\n",
    "# set objective\n",
    "m.setObjective( quicksum(price[i]*demand[i]*x[i] for i in range(N)) + s*(I - quicksum(demand[i]*x[i] for i in range(N))), GRB.MAXIMIZE)\n",
    "\n",
    "# capcity constraint: \n",
    "m.addConstr( quicksum(demand[i]*x[i] for i in range(N)) <= I , \"capacity\")\n",
    "\n",
    "# time constraint: \n",
    "m.addConstr( quicksum(x[i] for i in range(N)) <= T , \"time\")\n",
    "\n",
    "# full price constraint: \n",
    "m.addConstr( x[0] >= full_price_week , \"full_price\")\n",
    "\n",
    "# Solving the model\n",
    "m.optimize()\n",
    "\n",
    "#  Print optimal solutions and optimal value\n",
    "print(\"\\n Optimal solution:\")\n",
    "for v in m.getVars():\n",
    "    print(v.VarName, v.x)\n",
    "\n",
    "print(\"\\n Optimal profit:\")\n",
    "print('Obj:', m.objVal)\n",
    "\n",
    "#  Print optimal dual solutions\n",
    "print(\"\\n Dual solutions:\")\n",
    "for d in m.getConstrs():\n",
    "    print('%s %g' % (d.ConstrName, d.Pi))"
   ]
  },
  {
   "cell_type": "code",
   "execution_count": null,
   "metadata": {},
   "outputs": [],
   "source": []
  },
  {
   "cell_type": "markdown",
   "metadata": {},
   "source": [
    "### Effects of initial inventory"
   ]
  },
  {
   "cell_type": "code",
   "execution_count": 5,
   "metadata": {},
   "outputs": [
    {
     "name": "stdout",
     "output_type": "stream",
     "text": [
      "Optimize a model with 3 rows, 4 columns and 9 nonzeros\n",
      "Coefficient statistics:\n",
      "  Matrix range     [1e+00, 3e+02]\n",
      "  Objective range  [4e+03, 5e+03]\n",
      "  Bounds range     [0e+00, 0e+00]\n",
      "  RHS range        [1e+00, 2e+03]\n",
      "Iteration    Objective       Primal Inf.    Dual Inf.      Time\n",
      "       0    1.1678400e+05   0.000000e+00   0.000000e+00      0s\n",
      "\n",
      "Solved in 0 iterations and 0.02 seconds\n",
      "Optimal objective  1.167840000e+05\n",
      "\n",
      " Optimal solution:\n",
      "x[0] 11.64\n",
      "x[1] 3.3599999999999994\n",
      "x[2] 0.0\n",
      "x[3] 0.0\n",
      "\n",
      " Optimal profit:\n",
      "Obj: 116784.0\n",
      "\n",
      " Dual solutions:\n",
      "capacity 9\n",
      "time 3250\n",
      "full_price 0\n"
     ]
    }
   ],
   "source": [
    "I = 2001\n",
    "\n",
    "# reset objective\n",
    "m.setObjective(quicksum(price[i]*demand[i]*x[i] for i in range(N)) + s*(I - quicksum(demand[i]*x[i] for i in range(N))), GRB.MAXIMIZE)\n",
    "\n",
    "#extract the inventory constraint\n",
    "C_capacity = m.getConstrByName(\"capacity\")\n",
    "\n",
    "#just update the constraint, don't have to write all the code above and run once\n",
    "#change the initial inventory level by +1\n",
    "C_capacity.RHS = I\n",
    "#alternatively one can use\n",
    "#C_capacity.setAttr(GRB.Attr.RHS, I)\n",
    "\n",
    "# Solving the model\n",
    "m.optimize()\n",
    "\n",
    "#  Print optimal solutions and optimal value\n",
    "print(\"\\n Optimal solution:\")\n",
    "for v in m.getVars():\n",
    "    print(v.VarName, v.x)\n",
    "\n",
    "print(\"\\n Optimal profit:\")\n",
    "print('Obj:', m.objVal)\n",
    "\n",
    "#  Print optimal dual solutions\n",
    "print(\"\\n Dual solutions:\")\n",
    "for d in m.getConstrs():\n",
    "    print('%s %g' % (d.ConstrName, d.Pi))"
   ]
  },
  {
   "cell_type": "markdown",
   "metadata": {},
   "source": [
    "### Effects of demand shock"
   ]
  },
  {
   "cell_type": "code",
   "execution_count": 4,
   "metadata": {},
   "outputs": [
    {
     "name": "stdout",
     "output_type": "stream",
     "text": [
      "\n",
      " Shock on demand: -20\n",
      "\n",
      " Profit: 110310.0\n",
      "\n",
      " Pricing decision: [ 3.66666667 11.33333333  0.          0.        ]\n",
      "\n",
      " Shock on demand: 0\n",
      "\n",
      " Profit: 116750.0\n",
      "\n",
      " Pricing decision: [11.66666667  3.33333333  0.          0.        ]\n",
      "\n",
      " Shock on demand: 20\n",
      "\n",
      " Profit: 120000.0\n",
      "\n",
      " Pricing decision: [13.79310345  0.          0.          0.        ]\n"
     ]
    }
   ],
   "source": [
    "I = 2000\n",
    "#change back to the default capacity constraint\n",
    "C_capacity.RHS = I\n",
    "\n",
    "#vector of demand shocks\n",
    "delta = np.array([-20, 0, 20])\n",
    "\n",
    "#intitalizing the outputs of optimal solutions\n",
    "profit_v = np.zeros(len(delta))\n",
    "x_v = np.zeros((len(delta), len(x)))\n",
    "\n",
    "#Supressing the optimization output\n",
    "m.setParam('OutputFlag', False )\n",
    "\n",
    "for k in range(len(delta)):\n",
    "    print(\"\\n Shock on demand:\", delta[k])\n",
    "    \n",
    "    # reset objective\n",
    "    m.setObjective( quicksum(price[i]*(demand[i]+delta[k])*x[i] for i in range(N)) + s*(I - quicksum((demand[i]+delta[k])*x[i] for i in range(N))), GRB.MAXIMIZE)\n",
    "    \n",
    "    #modify the coefficient of x in the capacity constraint\n",
    "    #only impact this constraint\n",
    "    for i in range(len(x)):\n",
    "        m.chgCoeff(C_capacity, x[i], demand[i]+delta[k])\n",
    "        #the constraint name, the variables, the coeffients\n",
    "        \n",
    "    m.optimize()\n",
    "    \n",
    "    profit_v[k] = m.objVal\n",
    "    print(\"\\n Profit:\", profit_v[k])\n",
    "    \n",
    "    for i in range(len(x)):\n",
    "        x_v[k,i] = x[i].x\n",
    "    print(\"\\n Pricing decision:\", x_v[k,:])\n",
    "    "
   ]
  },
  {
   "cell_type": "markdown",
   "metadata": {},
   "source": [
    "### Alternative way of modifying the model via function (in fact this method redefines the model each time)"
   ]
  },
  {
   "cell_type": "code",
   "execution_count": null,
   "metadata": {},
   "outputs": [],
   "source": [
    "#########Model Set-up Using Function###############\n",
    "def model_setup():\n",
    "    \n",
    "    m = Model(\"Retail\")\n",
    "    \n",
    "    # number of weeks to offer price level i\n",
    "    x = m.addVars(N, name = \"x\")\n",
    "\n",
    "    # set objective\n",
    "    m.setObjective( quicksum(price[i]*demand[i]*x[i] for i in range(N)) + s*(I - quicksum(demand[i]*x[i] for i in range(N))), GRB.MAXIMIZE)\n",
    "\n",
    "    # capcity constraint: \n",
    "    m.addConstr( quicksum(demand[i]*x[i] for i in range(N)) <= I , \"capacity\")\n",
    "\n",
    "    # time constraint: \n",
    "    m.addConstr( quicksum(x[i] for i in range(N)) <= T , \"time\")\n",
    "\n",
    "    # full price constraint: \n",
    "    m.addConstr( x[0] >= full_price_week , \"full_price\")\n",
    "    \n",
    "    return m"
   ]
  },
  {
   "cell_type": "code",
   "execution_count": null,
   "metadata": {},
   "outputs": [],
   "source": [
    "# setup the model\n",
    "m = model_setup()\n",
    "\n",
    "# Solving the model\n",
    "m.optimize()\n",
    "\n",
    "#  Print optimal solutions and optimal value\n",
    "print(\"\\n Optimal solution:\")\n",
    "for v in m.getVars():\n",
    "    print(v.VarName, v.x)\n",
    "\n",
    "print(\"\\n Optimal profit:\")\n",
    "print('Obj:', m.objVal)\n"
   ]
  },
  {
   "cell_type": "code",
   "execution_count": null,
   "metadata": {},
   "outputs": [],
   "source": [
    "#change inventory level\n",
    "I = 2001\n",
    "\n",
    "# setup the model again\n",
    "m = model_setup()\n",
    "\n",
    "# Solving the model\n",
    "m.optimize()\n",
    "\n",
    "#  Print optimal solutions and optimal value\n",
    "print(\"\\n Optimal solution:\")\n",
    "for v in m.getVars():\n",
    "    print(v.VarName, v.x)\n",
    "\n",
    "print(\"\\n Optimal profit:\")\n",
    "print('Obj:', m.objVal)"
   ]
  },
  {
   "cell_type": "code",
   "execution_count": null,
   "metadata": {},
   "outputs": [],
   "source": []
  }
 ],
 "metadata": {
  "kernelspec": {
   "display_name": "Python 3",
   "language": "python",
   "name": "python3"
  },
  "language_info": {
   "codemirror_mode": {
    "name": "ipython",
    "version": 3
   },
   "file_extension": ".py",
   "mimetype": "text/x-python",
   "name": "python",
   "nbconvert_exporter": "python",
   "pygments_lexer": "ipython3",
   "version": "3.6.5"
  }
 },
 "nbformat": 4,
 "nbformat_minor": 2
}
