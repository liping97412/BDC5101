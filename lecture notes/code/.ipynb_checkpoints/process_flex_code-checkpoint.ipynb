{
 "cells": [
  {
   "cell_type": "markdown",
   "metadata": {},
   "source": [
    "# Code for Process Flexibility"
   ]
  },
  {
   "cell_type": "markdown",
   "metadata": {},
   "source": [
    "### Network formulation for maximizing sales given demands:\n",
    "\n",
    "\\begin{equation}\n",
    "\\begin{split}\n",
    "\\max~ & \\sum_{(i,j)\\in A}x_{ij} \\\\\n",
    "s.t. ~& \\sum_{j:(i,j)\\in A}x_{ij} \\leq C_i\\\\\n",
    "& \\sum_{i:(i,j)\\in A}x_{ij} \\leq D_j\\\\\n",
    "& x_{ij}\\geq 0,\n",
    "\\end{split}\n",
    "\\end{equation}\n",
    "where $C_i$ is the capacity at plant $i$ and $D_j$ is the demand for production $j$."
   ]
  },
  {
   "cell_type": "code",
   "execution_count": 1,
   "metadata": {},
   "outputs": [
    {
     "name": "stdout",
     "output_type": "stream",
     "text": [
      "<gurobi.tuplelist (6 tuples, 2 values each):\n",
      " ( 0 , 0 )\n",
      " ( 1 , 1 )\n",
      " ( 2 , 2 )\n",
      " ( 3 , 3 )\n",
      " ( 4 , 4 )\n",
      " ( 5 , 5 )\n",
      ">\n"
     ]
    }
   ],
   "source": [
    "from gurobipy import *\n",
    "import numpy as np\n",
    "\n",
    "#########Parameters Set-up for a Dedicated System and a Deterministic Demand############\n",
    "\n",
    "#supply and demand\n",
    "supply = np.array([100, 100, 100, 100, 100, 100])\n",
    "\n",
    "demand = np.array([100, 100, 100, 100, 100, 100])\n",
    "\n",
    "ARCS = tuplelist([(0,0), (1,1), (2,2), (3,3), (4,4), (5,5)])\n",
    "\n",
    "\n",
    "N = len(supply)\n",
    "M = len(demand)\n",
    "\n",
    "print(ARCS)\n",
    "\n"
   ]
  },
  {
   "cell_type": "code",
   "execution_count": 2,
   "metadata": {},
   "outputs": [],
   "source": [
    "#########Model Set-up Using Function###############\n",
    "\n",
    "def model_setup():\n",
    "    \n",
    "    m = Model(\"Process_Flexi\")\n",
    "    \n",
    "    # number of weeks to offer price level i\n",
    "    x = m.addVars(ARCS, name = \"x\")\n",
    "\n",
    "    # set objective\n",
    "    m.setObjective( quicksum(x[i,j] for (i,j) in ARCS), GRB.MAXIMIZE)\n",
    "\n",
    "    # capcity constraint: \n",
    "    m.addConstrs( ( quicksum(x[i,j] for (i,j) in ARCS.select(i,'*')) <= supply[i] for i in range(N)), \"capacity\")\n",
    "\n",
    "    # demand constraint: \n",
    "    m.addConstrs( ( quicksum(x[i,j] for (i,j) in ARCS.select('*',j)) <= demand[j] for j in range(M) ), \"demand\")\n",
    "    \n",
    "    #Supressing the optimization output\n",
    "    m.setParam( 'OutputFlag', False )\n",
    "    \n",
    "    return m\n"
   ]
  },
  {
   "cell_type": "code",
   "execution_count": 3,
   "metadata": {},
   "outputs": [
    {
     "name": "stdout",
     "output_type": "stream",
     "text": [
      "Academic license - for non-commercial use only\n",
      "\n",
      " Optimal solution:\n",
      "x[0,0] 100.0\n",
      "x[1,1] 100.0\n",
      "x[2,2] 100.0\n",
      "x[3,3] 100.0\n",
      "x[4,4] 100.0\n",
      "x[5,5] 100.0\n",
      "\n",
      " Optimal profit:\n",
      "Obj: 600.0\n"
     ]
    }
   ],
   "source": [
    "# setup the model\n",
    "m = model_setup()\n",
    "\n",
    "# Solving the model\n",
    "m.optimize()\n",
    "\n",
    "#  Print optimal solutions and optimal value\n",
    "print(\"\\n Optimal solution:\")\n",
    "for v in m.getVars():\n",
    "    print(v.VarName, v.x)\n",
    "\n",
    "print(\"\\n Optimal profit:\")\n",
    "print('Obj:', m.objVal)\n",
    "\n",
    "#m.write(\"out.lp\")"
   ]
  },
  {
   "cell_type": "code",
   "execution_count": 13,
   "metadata": {},
   "outputs": [
    {
     "name": "stdout",
     "output_type": "stream",
     "text": [
      "Average maximum sales for dedicated system: 525.8883648224825\n"
     ]
    }
   ],
   "source": [
    "#########Evaluate the Dedicated System for Random Demand############\n",
    "ARCS = tuplelist([(0,0), (1,1), (2,2), (3,3), (4,4), (5,5)])\n",
    "\n",
    "\n",
    "#mean of the demand\n",
    "mean = np.array([100, 100, 100, 100, 100, 100])\n",
    "\n",
    "#covariance matrix of the demand (independent with s.d. 30)\n",
    "cov = np.array([[900, 0, 0, 0, 0, 0], \n",
    "                [0, 900, 0, 0, 0, 0],\n",
    "                [0, 0, 900, 0, 0, 0],\n",
    "                [0, 0, 0, 900, 0, 0],\n",
    "                [0, 0, 0, 0, 900, 0],\n",
    "                [0, 0, 0, 0, 0, 900]])\n",
    "\n",
    "Sample_Size = 1000\n",
    "\n",
    "sales_dedicate = np.zeros(Sample_Size)\n",
    "\n",
    "\n",
    "for i in range(Sample_Size):\n",
    "    \n",
    "    # demand is sampled from multivariate normal distribution with mean and cov (and truncated above zero)\n",
    "    demand = np.maximum(np.random.multivariate_normal(mean, cov), 0)\n",
    "    \n",
    "    # setup the model again\n",
    "    m = model_setup()\n",
    "\n",
    "    # solving the model\n",
    "    m.optimize()\n",
    "    \n",
    "    # store the maximum sales for the i-th sample\n",
    "    sales_dedicate[i] = m.objVal\n",
    "\n",
    "# compute the average of maximum sales\n",
    "avg_sales_dedicate = np.average(sales_dedicate)    \n",
    "\n",
    "print('Average maximum sales for dedicated system:', avg_sales_dedicate)\n"
   ]
  },
  {
   "cell_type": "code",
   "execution_count": 22,
   "metadata": {},
   "outputs": [
    {
     "data": {
      "image/png": "[encoded data removed]",
      "text/plain": [
       "<matplotlib.figure.Figure at 0x8e37550>"
      ]
     },
     "metadata": {},
     "output_type": "display_data"
    }
   ],
   "source": [
    "# visiualizing the sales over all samples\n",
    "import matplotlib.pyplot as plt\n",
    "\n",
    "plt.hist(sales_dedicate, bins = 60, range = (0, 600))\n",
    "plt.xlabel('Sales')\n",
    "plt.ylabel('Frequency')\n",
    "plt.show()"
   ]
  },
  {
   "cell_type": "code",
   "execution_count": 15,
   "metadata": {},
   "outputs": [
    {
     "name": "stdout",
     "output_type": "stream",
     "text": [
      "Average maximum sales for full flexible system: 571.367699704803\n"
     ]
    }
   ],
   "source": [
    "#########Evaluate the Full Flexible System for Random Demand############\n",
    "ARCS = tuplelist([(0,0), (0,1), (0,2), (0,3), (0,4), (0,5),\n",
    "                  (1,0), (1,1), (1,2), (1,3), (1,4), (1,5),\n",
    "                  (2,0), (2,1), (2,2), (2,3), (2,4), (2,5),\n",
    "                  (3,0), (3,1), (3,2), (3,3), (3,4), (3,5),\n",
    "                  (4,0), (4,1), (4,2), (4,3), (4,4), (4,5),\n",
    "                  (5,0), (5,1), (5,2), (5,3), (5,4), (5,5)])\n",
    "\n",
    "\n",
    "sales_full = np.zeros(Sample_Size)\n",
    "\n",
    "\n",
    "for i in range(Sample_Size):\n",
    "    \n",
    "    # demand is sampled from multivariate normal distribution with mean and cov (and truncated above zero)\n",
    "    demand = np.maximum(np.random.multivariate_normal(mean, cov), 0)\n",
    "    \n",
    "    # setup the model again\n",
    "    m = model_setup()\n",
    "\n",
    "    # solving the model\n",
    "    m.optimize()\n",
    "    \n",
    "    # store the maximum sales for the i-th sample\n",
    "    sales_full[i] = m.objVal\n",
    "\n",
    "# compute the average of maximum sales\n",
    "avg_sales_full = np.average(sales_full)    \n",
    "\n",
    "print('Average maximum sales for full flexible system:', avg_sales_full)\n",
    "\n"
   ]
  },
  {
   "cell_type": "code",
   "execution_count": 23,
   "metadata": {},
   "outputs": [
    {
     "data": {
      "image/png": "[encoded data removed]",
      "text/plain": [
       "<matplotlib.figure.Figure at 0x8dbd470>"
      ]
     },
     "metadata": {},
     "output_type": "display_data"
    }
   ],
   "source": [
    "# visiualizing the sales over all samples\n",
    "\n",
    "plt.hist(sales_full, bins = 60, range = (0, 600))\n",
    "plt.xlabel('Sales')\n",
    "plt.ylabel('Frequency')\n",
    "plt.show()"
   ]
  },
  {
   "cell_type": "code",
   "execution_count": null,
   "metadata": {},
   "outputs": [],
   "source": []
  }
 ],
 "metadata": {
  "kernelspec": {
   "display_name": "Python 3",
   "language": "python",
   "name": "python3"
  },
  "language_info": {
   "codemirror_mode": {
    "name": "ipython",
    "version": 3
   },
   "file_extension": ".py",
   "mimetype": "text/x-python",
   "name": "python",
   "nbconvert_exporter": "python",
   "pygments_lexer": "ipython3",
   "version": "3.6.5"
  }
 },
 "nbformat": 4,
 "nbformat_minor": 2
}
