{
 "cells": [
  {
   "cell_type": "markdown",
   "metadata": {},
   "source": [
    "# Code for Transportation Problem"
   ]
  },
  {
   "cell_type": "markdown",
   "metadata": {},
   "source": [
    "### Formulation of a general transporation problem:\n",
    "\\begin{equation}\n",
    "\\begin{split}\n",
    "\\min~ & \\sum_{i=1}^m\\sum_{j=1}^n c_{ij}x_{ij} \\\\\n",
    "s.t. ~& \\sum_{j=1}^nx_{ij}=a_i, ~ i = 1,...,m\\\\\n",
    "& \\sum_{i=1}^mx_{ij}=b_j, ~ j = 1,...,n\\\\\n",
    "& x_{ij}\\geq 0.\n",
    "\\end{split}\n",
    "\\end{equation}\n",
    "\n",
    "### Example:\n",
    "\\begin{array}{rr} \\hline\n",
    " &\\text{Dallas} &\\text{Atalanta} &\\text{San Francisco} & \\text{Phila.}   & Supply\\\\ \\hline\n",
    "\\text{Cleveland} &8 &6 &10 &9 & 35 \\\\ \n",
    "\\text{Chicago} &9 &12 &13 &7 & 50 \\\\ \n",
    "\\text{Boston} &14 &9 &16 &5 & 40 \\\\ \n",
    "Demands &45 &20 &30 &30 & [125] \\\\ \\hline\n",
    "\\end{array}"
   ]
  },
  {
   "cell_type": "code",
   "execution_count": 1,
   "metadata": {},
   "outputs": [
    {
     "name": "stdout",
     "output_type": "stream",
     "text": [
      "Academic license - for non-commercial use only\n",
      "Optimize a model with 7 rows, 12 columns and 24 nonzeros\n",
      "Coefficient statistics:\n",
      "  Matrix range     [1e+00, 1e+00]\n",
      "  Objective range  [5e+00, 2e+01]\n",
      "  Bounds range     [0e+00, 0e+00]\n",
      "  RHS range        [2e+01, 5e+01]\n",
      "Presolve time: 0.05s\n",
      "Presolved: 7 rows, 12 columns, 24 nonzeros\n",
      "\n",
      "Iteration    Objective       Primal Inf.    Dual Inf.      Time\n",
      "       0    9.3000000e+02   1.200000e+02   0.000000e+00      0s\n",
      "       3    1.0200000e+03   0.000000e+00   0.000000e+00      0s\n",
      "\n",
      "Solved in 3 iterations and 0.06 seconds\n",
      "Optimal objective  1.020000000e+03\n",
      "\n",
      " Supply node 1 to demand node 1 amount: 0\n",
      "\n",
      " Supply node 1 to demand node 2 amount: 10\n",
      "\n",
      " Supply node 1 to demand node 3 amount: 25\n",
      "\n",
      " Supply node 1 to demand node 4 amount: 0\n",
      "\n",
      " Supply node 2 to demand node 1 amount: 45\n",
      "\n",
      " Supply node 2 to demand node 2 amount: 0\n",
      "\n",
      " Supply node 2 to demand node 3 amount: 5\n",
      "\n",
      " Supply node 2 to demand node 4 amount: 0\n",
      "\n",
      " Supply node 3 to demand node 1 amount: 0\n",
      "\n",
      " Supply node 3 to demand node 2 amount: 10\n",
      "\n",
      " Supply node 3 to demand node 3 amount: 0\n",
      "\n",
      " Supply node 3 to demand node 4 amount: 30\n",
      "Obj: 1020.0\n"
     ]
    }
   ],
   "source": [
    "from gurobipy import *\n",
    "import numpy as np\n",
    "\n",
    "#########Parameters Set-up############\n",
    "\n",
    "#Objective coefficient: transportation cost from supply node i to demand node j\n",
    "cost = np.array([[8, 6, 10, 9],\n",
    "                [9, 12, 13, 7], \n",
    "                [14, 9, 16, 5]])\n",
    "\n",
    "\n",
    "#supply and demand\n",
    "supply = np.array([35, 50, 40])\n",
    "\n",
    "demand = np.array([45, 20, 30, 30])\n",
    "\n",
    "#From the cost matrix, extract the number of supply nodes: M and the number of demand nodes: N\n",
    "M, N = cost.shape\n",
    "\n",
    "\n",
    "\n",
    "#########Model Set-up###############\n",
    "\n",
    "tp = Model(\"transportation\")\n",
    "\n",
    "# Creat variables\n",
    "# addVars ( *indices, lb=0.0, ub=GRB.INFINITY, obj=0.0, vtype=GRB.CONTINUOUS, name=\"\" )\n",
    "x = tp.addVars(M, N)\n",
    "\n",
    "# Set objective\n",
    "tp.setObjective( quicksum(cost[i,j]*x[i,j] for i in range(M) for j in range(N)), GRB.MINIMIZE)\n",
    "\n",
    "# Add supply constraints: \n",
    "tp.addConstrs(( quicksum(x[i,j] for j in range(N)) == supply[i] for i in range(M) ), \"Supply\")\n",
    "\n",
    "# Add demand constraints: \n",
    "tp.addConstrs(( quicksum(x[i,j] for i in range(M)) == demand[j] for j in range(N) ), \"Demand\")\n",
    "\n",
    "# Solving the model\n",
    "tp.optimize()\n",
    "\n",
    "#  Print optimal solutions and optimal value\n",
    "for i in range(M):\n",
    "    for j in range(N):\n",
    "        print(\"\\n Supply node %g to demand node %g amount: %g\" % (i+1, j+1 , x[i,j].x))\n",
    "    \n",
    "print('Obj:', tp.objVal)\n"
   ]
  },
  {
   "cell_type": "code",
   "execution_count": null,
   "metadata": {},
   "outputs": [],
   "source": []
  },
  {
   "cell_type": "code",
   "execution_count": null,
   "metadata": {},
   "outputs": [],
   "source": []
  }
 ],
 "metadata": {
  "kernelspec": {
   "display_name": "Python 3",
   "language": "python",
   "name": "python3"
  },
  "language_info": {
   "codemirror_mode": {
    "name": "ipython",
    "version": 3
   },
   "file_extension": ".py",
   "mimetype": "text/x-python",
   "name": "python",
   "nbconvert_exporter": "python",
   "pygments_lexer": "ipython3",
   "version": "3.6.5"
  }
 },
 "nbformat": 4,
 "nbformat_minor": 2
}
