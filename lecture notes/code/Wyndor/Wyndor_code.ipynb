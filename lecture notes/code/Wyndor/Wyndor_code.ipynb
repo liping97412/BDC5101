{
 "cells": [
  {
   "cell_type": "markdown",
   "metadata": {},
   "source": [
    "# Code for Wyndor's Production Problem"
   ]
  },
  {
   "cell_type": "markdown",
   "metadata": {},
   "source": [
    "### Wyndor's Example:\n",
    "\\begin{equation}\n",
    "\\begin{split}\n",
    "\\max~ & 3x_1 + 5x_2 \\\\\n",
    "s.t. ~& x_1 \\leq 4\\\\\n",
    "& 2x_2\\leq 12 \\\\\n",
    "& 3x_1 + 2x_2 \\leq 18\\\\\n",
    "& x_1,x_2\\geq 0.\n",
    "\\end{split}\n",
    "\\end{equation}"
   ]
  },
  {
   "cell_type": "code",
   "execution_count": 1,
   "metadata": {},
   "outputs": [
    {
     "name": "stdout",
     "output_type": "stream",
     "text": [
      "Academic license - for non-commercial use only\n",
      "Optimize a model with 3 rows, 2 columns and 4 nonzeros\n",
      "Coefficient statistics:\n",
      "  Matrix range     [1e+00, 3e+00]\n",
      "  Objective range  [3e+00, 5e+00]\n",
      "  Bounds range     [0e+00, 0e+00]\n",
      "  RHS range        [4e+00, 2e+01]\n",
      "Presolve removed 2 rows and 0 columns\n",
      "Presolve time: 0.13s\n",
      "Presolved: 1 rows, 2 columns, 2 nonzeros\n",
      "\n",
      "Iteration    Objective       Primal Inf.    Dual Inf.      Time\n",
      "       0    4.5000000e+01   1.500000e+00   0.000000e+00      0s\n",
      "       1    3.6000000e+01   0.000000e+00   0.000000e+00      0s\n",
      "\n",
      "Solved in 1 iterations and 0.24 seconds\n",
      "Optimal objective  3.600000000e+01\n",
      "x1 : 2.0\n",
      "x2 : 6.0\n",
      "Obj: 36.0\n"
     ]
    }
   ],
   "source": [
    "from gurobipy import *\n",
    "\n",
    "m = Model(\"Wyndor\")\n",
    "\n",
    "# Creat variables\n",
    "# addVar(lb=0.0, ub=GRB.INFINITY, obj=0.0, vtype=GRB.CONTINUOUS（variable type is CONTINUOUS）, name=\"\", column=None)\n",
    "# lb: lower bound, ub: upper bound\n",
    "# vtype: continuous, binary or integer\n",
    "# name: name for the variable\n",
    "x1 = m.addVar(name = \"x1\")\n",
    "x2 = m.addVar(name = \"x2\")\n",
    "\n",
    "# Set objective\n",
    "# setObjective ( expr, sense=None )\n",
    "# expr: linear or quadratic expression\n",
    "# sense: GRB.MINIMIZE or GRB.MAXIMIZE\n",
    "m.setObjective(3*x1 + 5*x2, GRB.MAXIMIZE)\n",
    "\n",
    "# Add constraint: \n",
    "m.addConstr(x1 <= 4, \"Plant1\")\n",
    "\n",
    "m.addConstr(2*x2 <= 12, \"Plant2\")\n",
    "\n",
    "m.addConstr(3*x1 + 2*x2 <= 18, \"Plant3\")\n",
    "\n",
    "# Solving the model\n",
    "m.optimize()\n",
    "\n",
    "#  Print optimal solutions and optimal value\n",
    "for v in m.getVars():\n",
    "    print(v.VarName,\":\", v.x)\n",
    "    \n",
    "print('Obj:', m.objVal)\n",
    "\n"
   ]
  },
  {
   "cell_type": "markdown",
   "metadata": {},
   "source": [
    "## Separating Model and Data"
   ]
  },
  {
   "cell_type": "code",
   "execution_count": 2,
   "metadata": {},
   "outputs": [
    {
     "name": "stdout",
     "output_type": "stream",
     "text": [
      "[3 5]\n",
      "<class 'numpy.ndarray'>\n",
      "(2,)\n"
     ]
    }
   ],
   "source": [
    "from gurobipy import *\n",
    "import numpy as np\n",
    "\n",
    "#########Parameters Set-up############\n",
    "\n",
    "# Objective coefficient: profit for each product\n",
    "profit = np.array([3, 5])\n",
    "print(profit)\n",
    "print(type(profit))\n",
    "print(profit.shape)"
   ]
  },
  {
   "cell_type": "code",
   "execution_count": 3,
   "metadata": {},
   "outputs": [
    {
     "name": "stdout",
     "output_type": "stream",
     "text": [
      "[[1 0]\n",
      " [0 2]\n",
      " [3 2]]\n",
      "(3, 2)\n"
     ]
    }
   ],
   "source": [
    "# Constraint right-hand-side: capacity for each plant\n",
    "capacity = np.array([4, 12, 18])\n",
    "\n",
    "# A matrix: the consumption of capacity at plant i of product j\n",
    "rate = np.array([[1, 0],\n",
    "                 [0, 2], \n",
    "                 [3, 2]])\n",
    "\n",
    "print(rate)\n",
    "print(rate.shape)"
   ]
  },
  {
   "cell_type": "code",
   "execution_count": 4,
   "metadata": {},
   "outputs": [
    {
     "name": "stdout",
     "output_type": "stream",
     "text": [
      "M = 3,  N = 2\n"
     ]
    }
   ],
   "source": [
    "# From A matrix, extract the number of products: N and the number of plants: M\n",
    "M, N = rate.shape\n",
    "\n",
    "print(\"M = %g,  N = %g\" % (M, N) )"
   ]
  },
  {
   "cell_type": "code",
   "execution_count": 5,
   "metadata": {},
   "outputs": [
    {
     "name": "stdout",
     "output_type": "stream",
     "text": [
      "Optimize a model with 3 rows, 2 columns and 4 nonzeros\n",
      "Coefficient statistics:\n",
      "  Matrix range     [1e+00, 3e+00]\n",
      "  Objective range  [3e+00, 5e+00]\n",
      "  Bounds range     [0e+00, 0e+00]\n",
      "  RHS range        [4e+00, 2e+01]\n",
      "Presolve removed 2 rows and 0 columns\n",
      "Presolve time: 0.03s\n",
      "Presolved: 1 rows, 2 columns, 2 nonzeros\n",
      "\n",
      "Iteration    Objective       Primal Inf.    Dual Inf.      Time\n",
      "       0    4.5000000e+01   1.500000e+00   0.000000e+00      0s\n",
      "       1    3.6000000e+01   0.000000e+00   0.000000e+00      0s\n",
      "\n",
      "Solved in 1 iterations and 0.05 seconds\n",
      "Optimal objective  3.600000000e+01\n",
      "x[0] 2.0\n",
      "x[1] 6.0\n",
      "Obj: 36.0\n"
     ]
    }
   ],
   "source": [
    "#########Model Set-up###############\n",
    "\n",
    "m = Model(\"Wyndor\")\n",
    "\n",
    "# Creat variables\n",
    "# addVars ( *indices, lb=0.0, ub=GRB.INFINITY, obj=0.0, vtype=GRB.CONTINUOUS, name=\"\" )\n",
    "# indices: can be one or more integer values, e.g.,  x = model.addVars(2), which creates x[0], x[1]; \n",
    "#          e.g., x = model.addVars(2, 3), which creates x[0,0],x[0,1],x[0,2],x[1,0],x[1,1],x[1,2];\n",
    "#          can be a list of tuples, e.g., x = model.addVars([(0,0), (1,1), (2,2)]), which creates x[0,0],x[1,1],x[2,2].\n",
    "\n",
    "x = m.addVars(N, name = \"x\")\n",
    "\n",
    "# Set objective\n",
    "#quicksum is recommened in gurobi\n",
    "m.setObjective( quicksum(profit[i]*x[i] for i in range(N)), GRB.MAXIMIZE)\n",
    "\n",
    "# Add constraints: \n",
    "m.addConstrs(( quicksum(rate[i,j]*x[j] for j in range(N)) <= capacity[i] for i in range(M) ), \"Plant\")\n",
    "\n",
    "# Solving the model\n",
    "m.optimize()\n",
    "\n",
    "# Print optimal solutions and optimal value\n",
    "for v in m.getVars():\n",
    "    print(v.VarName, v.x)\n",
    "    \n",
    "print('Obj:', m.objVal)\n",
    "\n"
   ]
  },
  {
   "cell_type": "code",
   "execution_count": 6,
   "metadata": {},
   "outputs": [
    {
     "name": "stdout",
     "output_type": "stream",
     "text": [
      "\n",
      " Sensitivity information\n",
      "Plant[0] 0.0 1e+100 2.0\n",
      "Plant[1] 1.5 18.0 6.0\n",
      "Plant[2] 1.0 24.0 12.0\n"
     ]
    }
   ],
   "source": [
    "print(\"\\n Sensitivity information\")\n",
    "for d in m.getConstrs():\n",
    "    print(d.ConstrName,d.Pi,d.SARHSUp,d.SARHSLow)"
   ]
  },
  {
   "cell_type": "markdown",
   "metadata": {},
   "source": [
    "### Loading Data from csv. Files"
   ]
  },
  {
   "cell_type": "code",
   "execution_count": 13,
   "metadata": {},
   "outputs": [
    {
     "name": "stdout",
     "output_type": "stream",
     "text": [
      "                  Doors  Windows  Capacity\n",
      "Profit per batch      3        5       NaN\n",
      "Plant 1               1        0       4.0\n",
      "Plant 2               0        2      12.0\n",
      "Plant 3               3        2      18.0\n",
      "(4, 3)\n"
     ]
    }
   ],
   "source": [
    "from gurobipy import *\n",
    "import numpy as np\n",
    "import pandas as pd\n",
    "\n",
    "\n",
    "#########Parameters Set-up############\n",
    "# Read the data from the csv file and use the first column as the index of rows\n",
    "Wyndor_data = pd.read_csv('Wyndor.csv', index_col = 0)#specify the first column as index otherwise treated as data\n",
    "print(Wyndor_data)\n",
    "print(Wyndor_data.shape)\n",
    "\n",
    "# Record the number of rows and columns in the data\n",
    "temp_M, temp_N = Wyndor_data.shape\n"
   ]
  },
  {
   "cell_type": "code",
   "execution_count": 14,
   "metadata": {
    "scrolled": true
   },
   "outputs": [
    {
     "name": "stdout",
     "output_type": "stream",
     "text": [
      "Doors      3.0\n",
      "Windows    5.0\n",
      "Name: Profit per batch, dtype: float64\n",
      "Index of the data:\n",
      "Index(['Doors', 'Windows'], dtype='object')\n",
      "Values of the data:\n",
      "[3. 5.]\n"
     ]
    }
   ],
   "source": [
    "#One is referred to http://pandas.pydata.org/pandas-docs/stable/indexing.html \n",
    "#for indexing and selecting data for the dataframe object in pandas.\n",
    "\n",
    "# Extracting objective coefficient via selection by position: .iloc\n",
    "# When slicing the data, the start bound is included, while the end bound is excluded\n",
    "profit = Wyndor_data.iloc[0, 0:temp_N-1]\n",
    "print(profit) \n",
    "print('Index of the data:')\n",
    "print(profit.index) \n",
    "print('Values of the data:')\n",
    "print(profit.values)\n",
    "\n",
    "#Extracting the values by ignoring the index and header of the dataframe\n",
    "profit = profit.values"
   ]
  },
  {
   "cell_type": "code",
   "execution_count": 15,
   "metadata": {},
   "outputs": [
    {
     "name": "stdout",
     "output_type": "stream",
     "text": [
      "         Doors  Windows\n",
      "Plant 1      1        0\n",
      "Plant 2      0        2\n",
      "Plant 3      3        2\n",
      "[[1 0]\n",
      " [0 2]\n",
      " [3 2]]\n"
     ]
    }
   ],
   "source": [
    "#Constraint right-hand-side: capacity for each plant\n",
    "capacity = Wyndor_data.iloc[1:temp_M, temp_N-1]\n",
    "capacity = capacity.values\n",
    "\n",
    "#A matrix: the consumption of capacity at plant i of product j\n",
    "rate = Wyndor_data.iloc[1:temp_M, 0:temp_N-1]\n",
    "print(rate)\n",
    "#drop the index of the data\n",
    "rate = rate.values\n",
    "print(rate)\n",
    "\n",
    "#From A matrix, extract the number of products: N and the number of plants: M\n",
    "M, N = rate.shape\n"
   ]
  },
  {
   "cell_type": "code",
   "execution_count": 16,
   "metadata": {},
   "outputs": [
    {
     "name": "stdout",
     "output_type": "stream",
     "text": [
      "Optimize a model with 3 rows, 2 columns and 4 nonzeros\n",
      "Coefficient statistics:\n",
      "  Matrix range     [1e+00, 3e+00]\n",
      "  Objective range  [3e+00, 5e+00]\n",
      "  Bounds range     [0e+00, 0e+00]\n",
      "  RHS range        [4e+00, 2e+01]\n",
      "Presolve removed 2 rows and 0 columns\n",
      "Presolve time: 0.04s\n",
      "Presolved: 1 rows, 2 columns, 2 nonzeros\n",
      "\n",
      "Iteration    Objective       Primal Inf.    Dual Inf.      Time\n",
      "       0    4.5000000e+01   1.500000e+00   0.000000e+00      0s\n",
      "       1    3.6000000e+01   0.000000e+00   0.000000e+00      0s\n",
      "\n",
      "Solved in 1 iterations and 0.05 seconds\n",
      "Optimal objective  3.600000000e+01\n",
      "Product[0] 2.0\n",
      "Product[1] 6.0\n",
      "Obj: 36.0\n"
     ]
    }
   ],
   "source": [
    "#########Model Set-up###############\n",
    "\n",
    "m = Model(\"Wyndor\")\n",
    "\n",
    "# Creat variables\n",
    "# addVars ( *indices, lb=0.0, ub=GRB.INFINITY, obj=0.0, vtype=GRB.CONTINUOUS, name=\"\" )\n",
    "x = m.addVars(N, name = 'Product')\n",
    "\n",
    "# Set objective\n",
    "m.setObjective( quicksum(profit[i]*x[i] for i in range(N)), GRB.MAXIMIZE)\n",
    "\n",
    "# Add constraints: \n",
    "m.addConstrs(( quicksum(rate[i,j]*x[j] for j in range(N)) <= capacity[i] for i in range(M) ), name = \"Plant\")\n",
    "\n",
    "# Solving the model\n",
    "m.optimize()\n",
    "\n",
    "#  Print optimal solutions and optimal value\n",
    "for v in m.getVars():\n",
    "    print(v.VarName, v.x)\n",
    "    \n",
    "print('Obj:', m.objVal)\n"
   ]
  }
 ],
 "metadata": {
  "celltoolbar": "Raw Cell Format",
  "kernelspec": {
   "display_name": "Python 3",
   "language": "python",
   "name": "python3"
  },
  "language_info": {
   "codemirror_mode": {
    "name": "ipython",
    "version": 3
   },
   "file_extension": ".py",
   "mimetype": "text/x-python",
   "name": "python",
   "nbconvert_exporter": "python",
   "pygments_lexer": "ipython3",
   "version": "3.6.5"
  }
 },
 "nbformat": 4,
 "nbformat_minor": 2
}
