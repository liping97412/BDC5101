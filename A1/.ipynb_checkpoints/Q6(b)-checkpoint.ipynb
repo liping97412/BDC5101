{
 "cells": [
  {
   "cell_type": "markdown",
   "metadata": {},
   "source": [
    "# OR Q6(b)"
   ]
  },
  {
   "cell_type": "code",
   "execution_count": 1,
   "metadata": {},
   "outputs": [
    {
     "name": "stdout",
     "output_type": "stream",
     "text": [
      "       Buying Price  Current Share  Current Price  Expected Future Price\n",
      "Stock                                                                   \n",
      "S1              1.2           1000            2.1                    2.0\n",
      "S2              2.1           1000            3.2                    3.7\n",
      "S3              3.2           1000            4.1                    5.2\n",
      "S4              4.1           1000            5.1                    7.1\n",
      "S5              4.5           1000            6.7                    9.1\n",
      "(5, 4)\n"
     ]
    }
   ],
   "source": [
    "from gurobipy import *\n",
    "import numpy as np\n",
    "import pandas as pd\n",
    "\n",
    "#########Parameters Set-up############\n",
    "# Read the data from the csv file and use the first column as the index of rows\n",
    "investment_data = pd.read_csv('investment.csv', index_col = 0)#specify the first column as index otherwise treated as data\n",
    "print(investment_data)\n",
    "print(investment_data.shape)\n",
    "\n",
    "# Record the number of rows and columns in the data\n",
    "N = investment_data.shape[0]"
   ]
  },
  {
   "cell_type": "code",
   "execution_count": 2,
   "metadata": {},
   "outputs": [
    {
     "name": "stdout",
     "output_type": "stream",
     "text": [
      "Buying Price [1.2 2.1 3.2 4.1 4.5]\n",
      "Current Share [1000 1000 1000 1000 1000]\n",
      "Current Price: [2.1 3.2 4.1 5.1 6.7]\n",
      "Expected Future Price: [2.  3.7 5.2 7.1 9.1]\n"
     ]
    }
   ],
   "source": [
    "#Extracting the values by ignoring the index and header of the dataframe\n",
    "\n",
    "p = investment_data.iloc[0:N,0].values\n",
    "s = investment_data.iloc[0:N,1].values\n",
    "q = investment_data.iloc[0:N,2].values\n",
    "r = investment_data.iloc[0:N,3].values\n",
    "K = 9000\n",
    "\n",
    "print(\"Buying Price\",p)\n",
    "print(\"Current Share\",s)\n",
    "print(\"Current Price:\",q)\n",
    "print(\"Expected Future Price:\",r)"
   ]
  },
  {
   "cell_type": "code",
   "execution_count": 3,
   "metadata": {},
   "outputs": [
    {
     "name": "stdout",
     "output_type": "stream",
     "text": [
      "Academic license - for non-commercial use only\n",
      "Optimize a model with 6 rows, 5 columns and 10 nonzeros\n",
      "Coefficient statistics:\n",
      "  Matrix range     [1e+00, 6e+00]\n",
      "  Objective range  [2e+00, 9e+00]\n",
      "  Bounds range     [0e+00, 0e+00]\n",
      "  RHS range        [1e+03, 9e+03]\n",
      "Presolve removed 5 rows and 0 columns\n",
      "Presolve time: 0.15s\n",
      "Presolved: 1 rows, 5 columns, 5 nonzeros\n",
      "\n",
      "Iteration    Objective       Primal Inf.    Dual Inf.      Time\n",
      "       0    2.7100000e+04   5.625000e+02   0.000000e+00      0s\n",
      "       1    1.5356791e+04   0.000000e+00   0.000000e+00      0s\n",
      "\n",
      "Solved in 1 iterations and 0.25 seconds\n",
      "Optimal objective  1.535679090e+04\n",
      "C0 1000.0\n",
      "C1 1000.0\n",
      "C2 1000.0\n",
      "C3 118.76184459886306\n",
      "C4 0.0\n",
      "Obj: 15356.790903348072\n"
     ]
    }
   ],
   "source": [
    "#########Model Set-up###############\n",
    "\n",
    "m = Model(\"investment\")\n",
    "\n",
    "# Creat variables\n",
    "# addVars ( *indices, lb=0.0, ub=GRB.INFINITY, obj=0.0, vtype=GRB.CONTINUOUS, name=\"\" )\n",
    "x = m.addVars(N)\n",
    "\n",
    "# Set objective\n",
    "m.setObjective(quicksum(r[i]*(s[i]-x[i]) for i in range(N)), GRB.MAXIMIZE)\n",
    "\n",
    "# Add constraints: \n",
    "m.addConstr(quicksum((0.99*q[i]*x[i]-0.3*(q[i]-p[i])*x[i]) for i in range(N)) >= K)\n",
    "m.addConstrs(x[i] <= s[i] for i in range(N))\n",
    "\n",
    "# Solving the model\n",
    "m.optimize()\n",
    "\n",
    "#  Print optimal solutions and optimal value\n",
    "for v in m.getVars():\n",
    "    print(v.VarName, v.x)\n",
    "    \n",
    "print('Obj:', m.objVal)"
   ]
  }
 ],
 "metadata": {
  "kernelspec": {
   "display_name": "Python 3",
   "language": "python",
   "name": "python3"
  },
  "language_info": {
   "codemirror_mode": {
    "name": "ipython",
    "version": 3
   },
   "file_extension": ".py",
   "mimetype": "text/x-python",
   "name": "python",
   "nbconvert_exporter": "python",
   "pygments_lexer": "ipython3",
   "version": "3.6.5"
  }
 },
 "nbformat": 4,
 "nbformat_minor": 2
}
