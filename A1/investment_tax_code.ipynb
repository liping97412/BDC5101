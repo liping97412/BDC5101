{
 "cells": [
  {
   "cell_type": "markdown",
   "metadata": {},
   "source": [
    "# Code for Invenstment under Taxation"
   ]
  },
  {
   "cell_type": "markdown",
   "metadata": {},
   "source": [
    "### LP formulation for the problem:\n",
    "\\begin{equation}\n",
    "\\begin{array}{ll}\n",
    "\\nonumber\n",
    "\\max &  \\sum_{i=1}^{n}r_i(s_i-x_i)\\\\\n",
    "s.t. &  \\sum_{i=1}^{n}(q_i x_i - 0.3\\max\\{q_i-p_i,0\\}x_i-0.01x_iq_i) \\ge K\\\\\n",
    " & 0\\le x_i\\le s_i, \\forall i = 1,...,n\n",
    "\\end{array}\n",
    "\\end{equation}"
   ]
  },
  {
   "cell_type": "code",
   "execution_count": 1,
   "metadata": {},
   "outputs": [
    {
     "name": "stdout",
     "output_type": "stream",
     "text": [
      "  Stock  Buying Price  Current Share  Current Price  Expected Future Price\n",
      "0    S1           1.2           1000            2.1                    2.0\n",
      "1    S2           2.1           1000            3.2                    3.7\n",
      "2    S3           3.2           1000            4.1                    5.2\n",
      "3    S4           4.1           1000            5.1                    7.1\n",
      "4    S5           4.5           1000            6.7                    9.1\n",
      "[['S1' 1.2 1000 2.1 2.0]\n",
      " ['S2' 2.1 1000 3.2 3.7]\n",
      " ['S3' 3.2 1000 4.1 5.2]\n",
      " ['S4' 4.1 1000 5.1 7.1]\n",
      " ['S5' 4.5 1000 6.7 9.1]]\n"
     ]
    }
   ],
   "source": [
    "from gurobipy import *\n",
    "import numpy as np\n",
    "import pandas as pd\n",
    "\n",
    "\n",
    "#########Parameters Set-up############\n",
    "\n",
    "K = 9000\n",
    "\n",
    "# read data \n",
    "invest_data = pd.read_csv('./investment.csv')\n",
    "print(invest_data)\n",
    "invest_data = invest_data.values\n",
    "print(invest_data)"
   ]
  },
  {
   "cell_type": "code",
   "execution_count": 2,
   "metadata": {},
   "outputs": [
    {
     "name": "stdout",
     "output_type": "stream",
     "text": [
      "['S1', 'S2', 'S3', 'S4', 'S5'] {'S1': 1.2, 'S2': 2.1, 'S3': 3.2, 'S4': 4.1, 'S5': 4.5}\n"
     ]
    }
   ],
   "source": [
    "#define all the parameters as a dictionary with stock being the index\n",
    "stock, buy_price, cur_share, cur_price, exp_price = multidict({item[0]: (item[1], item[2], item[3], item[4]) \n",
    "                                                              for item in invest_data })\n",
    "\n",
    "print(stock, buy_price)"
   ]
  },
  {
   "cell_type": "code",
   "execution_count": 3,
   "metadata": {},
   "outputs": [
    {
     "name": "stdout",
     "output_type": "stream",
     "text": [
      "Academic license - for non-commercial use only\n",
      "Optimize a model with 1 rows, 5 columns and 5 nonzeros\n",
      "Coefficient statistics:\n",
      "  Matrix range     [2e+00, 6e+00]\n",
      "  Objective range  [2e+00, 9e+00]\n",
      "  Bounds range     [1e+03, 1e+03]\n",
      "  RHS range        [9e+03, 9e+03]\n",
      "Presolve time: 0.00s\n",
      "Presolved: 1 rows, 5 columns, 5 nonzeros\n",
      "\n",
      "Iteration    Objective       Primal Inf.    Dual Inf.      Time\n",
      "       0    2.7100000e+04   5.625000e+02   0.000000e+00      0s\n",
      "       1    1.5356791e+04   0.000000e+00   0.000000e+00      0s\n",
      "\n",
      "Solved in 1 iterations and 0.01 seconds\n",
      "Optimal objective  1.535679090e+04\n",
      "\n",
      " Optimal solution:\n",
      "sell[S1] 1000.0\n",
      "sell[S2] 1000.0\n",
      "sell[S3] 1000.0\n",
      "sell[S4] 118.76184459886302\n",
      "sell[S5] 0.0\n",
      "\n",
      " Optimal profit:\n",
      "Obj: 15356.790903348072\n"
     ]
    }
   ],
   "source": [
    "#########Model Set-up############\n",
    "\n",
    "m = Model(\"invest_tax\")\n",
    "\n",
    "# number of shares of stock i to be sold\n",
    "sell = m.addVars(stock, ub = cur_share, lb=0, name = \"sell\")\n",
    "\n",
    "# first define objective\n",
    "obj = quicksum( exp_price[i] * (cur_share[i] - sell[i]) for i in stock)\n",
    "\n",
    "# then add objective\n",
    "m.setObjective( obj, GRB.MAXIMIZE)\n",
    "\n",
    "# first define the constraint that requries at least K needs to be raised\n",
    "C_min_raise =  quicksum(sell[i]*cur_price[i] - 0.3*sell[i]*( max(cur_price[i]-buy_price[i],0)) - 0.01*sell[i]*cur_price[i] \n",
    "                       for i in stock) >= K\n",
    "\n",
    "# then add the constraint\n",
    "m.addConstr(C_min_raise, \"min_raise\")\n",
    "\n",
    "# Alternatively one can combine the two steps as we did in the class\n",
    "# m.addConstr( quicksum(sell[i]*cur_price[i] - 0.3*sell[i]*( max(cur_price[i]-buy_price[i],0)) - 0.01*sell[i]*cur_price[i] \n",
    "#                        for i in stock) >= K, \"min_raise\")\n",
    "\n",
    "\n",
    "m.optimize()\n",
    "\n",
    "#  Print optimal solutions and optimal value\n",
    "print(\"\\n Optimal solution:\")\n",
    "for v in m.getVars():\n",
    "    print(v.VarName, v.x)\n",
    "\n",
    "print(\"\\n Optimal profit:\")\n",
    "print('Obj:', m.objVal)"
   ]
  },
  {
   "cell_type": "code",
   "execution_count": null,
   "metadata": {},
   "outputs": [],
   "source": []
  }
 ],
 "metadata": {
  "kernelspec": {
   "display_name": "Python 3",
   "language": "python",
   "name": "python3"
  },
  "language_info": {
   "codemirror_mode": {
    "name": "ipython",
    "version": 3
   },
   "file_extension": ".py",
   "mimetype": "text/x-python",
   "name": "python",
   "nbconvert_exporter": "python",
   "pygments_lexer": "ipython3",
   "version": "3.6.4"
  }
 },
 "nbformat": 4,
 "nbformat_minor": 2
}
