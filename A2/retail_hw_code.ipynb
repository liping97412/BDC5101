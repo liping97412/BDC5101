{
 "cells": [
  {
   "cell_type": "markdown",
   "metadata": {},
   "source": [
    "# Code for the Retailer Game (Homework Problems)"
   ]
  },
  {
   "cell_type": "markdown",
   "metadata": {},
   "source": [
    "### Benchmark case"
   ]
  },
  {
   "cell_type": "code",
   "execution_count": 36,
   "metadata": {},
   "outputs": [],
   "source": [
    "from gurobipy import *\n",
    "import numpy as np\n",
    "\n",
    "#########Parameters Set-up############\n",
    "\n",
    "#the vector of prices\n",
    "price = np.array([60, 54, 48, 36])\n",
    "#the vector of demands\n",
    "demand = np.array([125, 162.5, 217.5, 348.8])\n",
    "#salvage value\n",
    "s = 25\n",
    "#total number of inventory\n",
    "I = 2000\n",
    "#Time horizon\n",
    "T = 15\n",
    "#full price week\n",
    "full_price_week = 1\n",
    "\n",
    "#number of price levels\n",
    "N = len(price)"
   ]
  },
  {
   "cell_type": "code",
   "execution_count": 37,
   "metadata": {},
   "outputs": [],
   "source": [
    "#########Model Set-up Using Function###############\n",
    "def model_setup():\n",
    "    \n",
    "    m = Model(\"Retail\")\n",
    "    \n",
    "    # number of weeks to offer price level i\n",
    "    x = m.addVars(N, name = \"x\")\n",
    "\n",
    "    # set objective\n",
    "    m.setObjective( quicksum(price[i]*demand[i]*x[i] for i in range(N)) + s*(I - quicksum(demand[i]*x[i] for i in range(N))), GRB.MAXIMIZE)\n",
    "\n",
    "    # capcity constraint: \n",
    "    m.addConstr( quicksum(demand[i]*x[i] for i in range(N)) <= I , \"capacity\")\n",
    "\n",
    "    # time constraint: \n",
    "    m.addConstr( quicksum(x[i] for i in range(N)) <= T , \"time\")\n",
    "\n",
    "    # full price constraint: \n",
    "    m.addConstr( x[0] >= full_price_week , \"full_price\")\n",
    "    \n",
    "    return m"
   ]
  },
  {
   "cell_type": "code",
   "execution_count": 38,
   "metadata": {},
   "outputs": [
    {
     "name": "stdout",
     "output_type": "stream",
     "text": [
      "Optimize a model with 3 rows, 4 columns and 9 nonzeros\n",
      "Coefficient statistics:\n",
      "  Matrix range     [1e+00, 3e+02]\n",
      "  Objective range  [4e+03, 5e+03]\n",
      "  Bounds range     [0e+00, 0e+00]\n",
      "  RHS range        [1e+00, 2e+03]\n",
      "Presolve removed 1 rows and 0 columns\n",
      "Presolve time: 0.01s\n",
      "Presolved: 2 rows, 4 columns, 8 nonzeros\n",
      "\n",
      "Iteration    Objective       Primal Inf.    Dual Inf.      Time\n",
      "       0    1.2000000e+05   1.587200e+01   0.000000e+00      0s\n",
      "       2    1.1675000e+05   0.000000e+00   0.000000e+00      0s\n",
      "\n",
      "Solved in 2 iterations and 0.02 seconds\n",
      "Optimal objective  1.167500000e+05\n",
      "\n",
      " Optimal solution:\n",
      "x[0] 11.666666666666666\n",
      "x[1] 3.333333333333334\n",
      "x[2] 0.0\n",
      "x[3] 0.0\n",
      "\n",
      " Optimal profit:\n",
      "Obj: 116750.0\n"
     ]
    }
   ],
   "source": [
    "# setup the model\n",
    "m = model_setup()\n",
    "\n",
    "# Solving the model\n",
    "m.optimize()\n",
    "\n",
    "# With function model_setup(). the decision variables x become local variables and cannot be accessed directly\n",
    "x = np.zeros(N)\n",
    "\n",
    "#  Print and store optimal solutions \n",
    "i = 0\n",
    "print(\"\\n Optimal solution:\")\n",
    "for v in m.getVars():\n",
    "    x[i] = v.x\n",
    "    print(v.VarName, v.x)\n",
    "    i = i + 1\n",
    "      \n",
    "# Print optimal value\n",
    "print(\"\\n Optimal profit:\")\n",
    "print('Obj:', m.objVal)\n"
   ]
  },
  {
   "cell_type": "markdown",
   "metadata": {},
   "source": [
    "### Adjustment of markdown strategy when there were only 25 units sold in the first week"
   ]
  },
  {
   "cell_type": "code",
   "execution_count": 39,
   "metadata": {},
   "outputs": [
    {
     "name": "stdout",
     "output_type": "stream",
     "text": [
      "\n",
      " The revenue without adjusting the markdown policy is: 113250.0\n"
     ]
    }
   ],
   "source": [
    "#acutal sales in the first week\n",
    "sales = 25\n",
    "\n",
    "#compute the revenue under the original markdown policy\n",
    "revenue_static = (  price[0]*sales + price[0]*demand[0]*(x[0] - 1) + \n",
    "                 sum(price[i]*demand[i]*x[i] for i in range(1,N)) + \n",
    "                 s*(I - sales - demand[0]*(x[0] - 1) - sum(demand[i]*x[i] for i in range(1,N)))  )\n",
    "\n",
    "print(\"\\n The revenue without adjusting the markdown policy is:\",  revenue_static)   "
   ]
  },
  {
   "cell_type": "code",
   "execution_count": 40,
   "metadata": {},
   "outputs": [
    {
     "name": "stdout",
     "output_type": "stream",
     "text": [
      "Optimize a model with 3 rows, 4 columns and 9 nonzeros\n",
      "Coefficient statistics:\n",
      "  Matrix range     [1e+00, 3e+02]\n",
      "  Objective range  [4e+03, 5e+03]\n",
      "  Bounds range     [0e+00, 0e+00]\n",
      "  RHS range        [1e+01, 2e+03]\n",
      "Presolve removed 1 rows and 0 columns\n",
      "Presolve time: 0.00s\n",
      "Presolved: 2 rows, 4 columns, 8 nonzeros\n",
      "\n",
      "Iteration    Objective       Primal Inf.    Dual Inf.      Time\n",
      "       0    1.1850000e+05   2.868000e+01   0.000000e+00      0s\n",
      "       2    1.1265000e+05   0.000000e+00   0.000000e+00      0s\n",
      "\n",
      "Solved in 2 iterations and 0.01 seconds\n",
      "Optimal objective  1.126500000e+05\n",
      "\n",
      " The adjusted pricing decision is: [8. 6. 0. 0.]\n",
      "\n",
      " The revenue from adjusting the markdown policy is: 114150.0\n",
      "\n",
      " Percentage improvement is 0.794702 percent\n"
     ]
    }
   ],
   "source": [
    "#adjusting the markdown policy by reoptimize the remaining 14 weeks\n",
    "#horizon reduces by 1\n",
    "T = T - 1\n",
    "#inventory reduces by sales\n",
    "I = max(I - sales, 0)\n",
    "#the number of weeks required for full price reduces by 1\n",
    "full_price_week = full_price_week - 1\n",
    "\n",
    "# setup the model\n",
    "m = model_setup()\n",
    "\n",
    "# Solving the model\n",
    "m.optimize()\n",
    "\n",
    "# the adjusted pricing decisions\n",
    "x_adjusted = np.zeros(N)\n",
    "\n",
    "# store optimal solutions \n",
    "i = 0\n",
    "for v in m.getVars():\n",
    "    x_adjusted[i] = v.x\n",
    "    i = i + 1\n",
    "\n",
    "print(\"\\n The adjusted pricing decision is:\",  x_adjusted)       \n",
    "\n",
    "revenue_adjusted = price[0]*sales + m.objVal\n",
    "\n",
    "print(\"\\n The revenue from adjusting the markdown policy is:\",  revenue_adjusted) \n",
    "\n",
    "ratio = (revenue_adjusted - revenue_static)/revenue_static*100\n",
    "print('\\n Percentage improvement is %g percent' %  ratio) "
   ]
  },
  {
   "cell_type": "markdown",
   "metadata": {},
   "source": [
    "### Using finer price grids"
   ]
  },
  {
   "cell_type": "code",
   "execution_count": 42,
   "metadata": {},
   "outputs": [
    {
     "name": "stdout",
     "output_type": "stream",
     "text": [
      "Optimize a model with 3 rows, 13 columns and 27 nonzeros\n",
      "Coefficient statistics:\n",
      "  Matrix range     [1e+00, 3e+02]\n",
      "  Objective range  [4e+03, 5e+03]\n",
      "  Bounds range     [0e+00, 0e+00]\n",
      "  RHS range        [1e+00, 2e+03]\n",
      "Presolve removed 1 rows and 0 columns\n",
      "Presolve time: 0.01s\n",
      "Presolved: 2 rows, 13 columns, 26 nonzeros\n",
      "\n",
      "Iteration    Objective       Primal Inf.    Dual Inf.      Time\n",
      "       0    1.2000000e+05   1.587200e+01   0.000000e+00      0s\n",
      "       2    1.1725000e+05   0.000000e+00   0.000000e+00      0s\n",
      "\n",
      "Solved in 2 iterations and 0.02 seconds\n",
      "Optimal objective  1.172500000e+05\n",
      "\n",
      " Optimal solution:\n",
      "x[0] 5.0\n",
      "x[1] 10.0\n",
      "x[2] 0.0\n",
      "x[3] 0.0\n",
      "x[4] 0.0\n",
      "x[5] 0.0\n",
      "x[6] 0.0\n",
      "x[7] 0.0\n",
      "x[8] 0.0\n",
      "x[9] 0.0\n",
      "x[10] 0.0\n",
      "x[11] 0.0\n",
      "x[12] 0.0\n",
      "\n",
      " Optimal profit:\n",
      "Obj: 117250.0\n"
     ]
    }
   ],
   "source": [
    "#########Reset parameters############\n",
    "\n",
    "#the vector of prices\n",
    "price = np.array([60, 58, 56, 54, 52, 50, 48, 46, 44, 42, 40, 38, 36])\n",
    "#the vector of demands\n",
    "demand = np.array([125, 137.5, 150, 162.5, 180.8, 199.1, 217.5, 239.4, 261.3, 283.2, 305.1, 327, 348.8])\n",
    "#salvage value\n",
    "s = 25\n",
    "#total number of inventory\n",
    "I = 2000\n",
    "#Time horizon\n",
    "T = 15\n",
    "#full price week\n",
    "full_price_week = 1\n",
    "\n",
    "#number of price levels\n",
    "N = len(price)\n",
    "\n",
    "# reset the model\n",
    "m = model_setup()\n",
    "\n",
    "# Solving the model\n",
    "m.optimize()\n",
    "\n",
    "#  Print optimal solutions \n",
    "print(\"\\n Optimal solution:\")\n",
    "for v in m.getVars():\n",
    "    print(v.VarName, v.x)\n",
    "      \n",
    "# Print optimal value\n",
    "print(\"\\n Optimal profit:\")\n",
    "print('Obj:', m.objVal)"
   ]
  },
  {
   "cell_type": "code",
   "execution_count": null,
   "metadata": {},
   "outputs": [],
   "source": []
  }
 ],
 "metadata": {
  "kernelspec": {
   "display_name": "Python 3",
   "language": "python",
   "name": "python3"
  },
  "language_info": {
   "codemirror_mode": {
    "name": "ipython",
    "version": 3
   },
   "file_extension": ".py",
   "mimetype": "text/x-python",
   "name": "python",
   "nbconvert_exporter": "python",
   "pygments_lexer": "ipython3",
   "version": "3.6.4"
  }
 },
 "nbformat": 4,
 "nbformat_minor": 2
}
