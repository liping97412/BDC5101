{
 "cells": [
  {
   "cell_type": "markdown",
   "metadata": {},
   "source": [
    "### A general formulation for the diet problem"
   ]
  },
  {
   "cell_type": "code",
   "execution_count": 13,
   "metadata": {},
   "outputs": [
    {
     "name": "stdout",
     "output_type": "stream",
     "text": [
      "<class 'dict'>\n",
      "<class 'gurobipy.tupledict'>\n",
      "{'Apple': {'Calories': 52, 'Carb': 14, 'Fiber': 2.4, 'Vit_A': 54, 'Vit_C': 4.6}, 'Banana': {'Calories': 89, 'Carb': 23, 'Fiber': 2.6, 'Vit_A': 64, 'Vit_C': 8.7}, 'Blueberries': {'Calories': 57, 'Carb': 14, 'Fiber': 2.4, 'Vit_A': 54, 'Vit_C': 9.7}, 'Durian': {'Calories': 147, 'Carb': 27, 'Fiber': 3.8, 'Vit_A': 44, 'Vit_C': 19.7}, 'Tangerine': {'Calories': 53, 'Carb': 13, 'Fiber': 1.8, 'Vit_A': 681, 'Vit_C': 26.7}}\n",
      "147\n"
     ]
    }
   ],
   "source": [
    "from gurobipy import *\n",
    "import numpy as np\n",
    "\n",
    "#########Parameters Set-up############\n",
    "#Using python dictionaries to set-up parameters\n",
    "\n",
    "INPUT, cost, in_min, in_max = multidict({\n",
    "  'Apple':         [0.5, 0, GRB.INFINITY],\n",
    "  'Banana':        [0.3, 0, GRB.INFINITY],\n",
    "  'Blueberries':   [2.5, 0, GRB.INFINITY],\n",
    "  'Durian':        [10.0, 0, GRB.INFINITY],\n",
    "  'Tangerine':     [0.5, 0, GRB.INFINITY] })\n",
    "\n",
    "OUTPUT, out_min, out_max = multidict({\n",
    "  'Calories':  [500, 3000],\n",
    "  'Carb':      [50, 400],\n",
    "  'Fiber':     [20, 30],\n",
    "  'Vit_A':     [2000, 3500],\n",
    "  'Vit_C':     [75, 150] })\n",
    "\n",
    "\n",
    "in_out = { 'Apple':       {'Calories': 52 ,'Carb': 14, 'Fiber': 2.4, 'Vit_A': 54,  'Vit_C': 4.6}, \n",
    "           'Banana':      {'Calories': 89 ,'Carb': 23, 'Fiber': 2.6, 'Vit_A': 64,  'Vit_C': 8.7}, \n",
    "           'Blueberries': {'Calories': 57 ,'Carb': 14, 'Fiber': 2.4, 'Vit_A': 54,  'Vit_C': 9.7}, \n",
    "           'Durian':      {'Calories': 147 ,'Carb': 27, 'Fiber': 3.8, 'Vit_A': 44,  'Vit_C': 19.7}, \n",
    "           'Tangerine':   {'Calories': 53 ,'Carb': 13, 'Fiber': 1.8, 'Vit_A': 681,  'Vit_C': 26.7} }\n",
    "\n",
    "print(type(in_out))\n",
    "print(type(out_min))\n",
    "print(in_out)\n",
    "print(in_out['Durian']['Calories'])"
   ]
  },
  {
   "cell_type": "code",
   "execution_count": 16,
   "metadata": {},
   "outputs": [],
   "source": [
    "#########Model Set-up############\n",
    "def model_setup():\n",
    "    m = Model(\"diet\")\n",
    "\n",
    "    # Creat variables\n",
    "    x = m.addVars(INPUT, lb = in_min, ub = in_max, name = INPUT)\n",
    "\n",
    "\n",
    "    # set objective\n",
    "    m.setObjective( quicksum(cost[i]*x[i] for i in INPUT), GRB.MINIMIZE)\n",
    "\n",
    "\n",
    "    # output constraints\n",
    "    m.addConstrs(( quicksum(in_out[i][j]*x[i] for i in INPUT) <= out_max[j] for j in OUTPUT ))\n",
    "\n",
    "    m.addConstrs(( quicksum(in_out[i][j]*x[i] for i in INPUT) >= out_min[j] for j in OUTPUT ))\n",
    "    \n",
    "    return m\n",
    "\n"
   ]
  },
  {
   "cell_type": "code",
   "execution_count": 18,
   "metadata": {},
   "outputs": [
    {
     "name": "stdout",
     "output_type": "stream",
     "text": [
      "Optimize a model with 10 rows, 5 columns and 50 nonzeros\n",
      "Coefficient statistics:\n",
      "  Matrix range     [2e+00, 7e+02]\n",
      "  Objective range  [3e-01, 1e+01]\n",
      "  Bounds range     [0e+00, 0e+00]\n",
      "  RHS range        [2e+01, 4e+03]\n",
      "Presolve removed 5 rows and 0 columns\n",
      "Presolve time: 0.01s\n",
      "Presolved: 5 rows, 10 columns, 30 nonzeros\n",
      "\n",
      "Iteration    Objective       Primal Inf.    Dual Inf.      Time\n",
      "       0    0.0000000e+00   9.562500e+01   0.000000e+00      0s\n",
      "       3    2.9998792e+00   0.000000e+00   0.000000e+00      0s\n",
      "\n",
      "Solved in 3 iterations and 0.02 seconds\n",
      "Optimal objective  2.999879183e+00\n",
      "\n",
      " Optimal intake of fruit is\n",
      "Apple 0.0\n",
      "Banana 6.052917723812976\n",
      "Blueberries 0.0\n",
      "Durian 0.0\n",
      "Tangerine 2.3680077322701463\n"
     ]
    }
   ],
   "source": [
    "# setup the model\n",
    "m = model_setup()\n",
    "\n",
    "# Solving the model\n",
    "m.optimize()\n",
    "\n",
    "\n",
    "print(\"\\n Optimal intake of fruit is\")\n",
    "#  Print optimal solutions \n",
    "for v in m.getVars():\n",
    "    print(v.VarName, v.x)\n",
    "    \n"
   ]
  },
  {
   "cell_type": "markdown",
   "metadata": {},
   "source": [
    "#### Adding additional constraint"
   ]
  },
  {
   "cell_type": "code",
   "execution_count": 20,
   "metadata": {},
   "outputs": [
    {
     "name": "stdout",
     "output_type": "stream",
     "text": [
      "Optimize a model with 12 rows, 5 columns and 60 nonzeros\n",
      "Coefficient statistics:\n",
      "  Matrix range     [2e-01, 7e+02]\n",
      "  Objective range  [3e-01, 1e+01]\n",
      "  Bounds range     [0e+00, 0e+00]\n",
      "  RHS range        [1e+01, 4e+03]\n",
      "Presolve removed 6 rows and 0 columns\n",
      "Presolve time: 0.01s\n",
      "Presolved: 6 rows, 9 columns, 34 nonzeros\n",
      "\n",
      "Iteration    Objective       Primal Inf.    Dual Inf.      Time\n",
      "       0    0.0000000e+00   9.562500e+01   0.000000e+00      0s\n",
      "       3    2.9998792e+00   0.000000e+00   0.000000e+00      0s\n",
      "\n",
      "Solved in 3 iterations and 0.07 seconds\n",
      "Optimal objective  2.999879183e+00\n",
      "\n",
      " Optimal intake of fruit is\n",
      "Apple 0.0\n",
      "Banana 6.052917723812976\n",
      "Blueberries 0.0\n",
      "Durian 0.0\n",
      "Tangerine 2.3680077322701463\n"
     ]
    }
   ],
   "source": [
    "OUTPUT, out_min, out_max = multidict({\n",
    "  'Calories':  [500, 3000],\n",
    "  'Carb':      [50, 400],\n",
    "  'Fiber':     [20, 30],\n",
    "  'Vit_A':     [2000, 3500],\n",
    "  'Vit_C':     [75, 150],\n",
    "  'Fat':       [0, 10] })\n",
    "\n",
    "\n",
    "in_out = { 'Apple':       {'Calories': 52 ,'Carb': 14, 'Fiber': 2.4, 'Vit_A': 54,  'Vit_C': 4.6, 'Fat': 0.2}, \n",
    "           'Banana':      {'Calories': 89 ,'Carb': 23, 'Fiber': 2.6, 'Vit_A': 64,  'Vit_C': 8.7, 'Fat': 0.3}, \n",
    "           'Blueberries': {'Calories': 57 ,'Carb': 14, 'Fiber': 2.4, 'Vit_A': 54,  'Vit_C': 9.7, 'Fat': 0.3}, \n",
    "           'Durian':      {'Calories': 147 ,'Carb': 27, 'Fiber': 3.8, 'Vit_A': 44,  'Vit_C': 19.7, 'Fat': 5}, \n",
    "           'Tangerine':   {'Calories': 53 ,'Carb': 13, 'Fiber': 1.8, 'Vit_A': 681,  'Vit_C': 26.7, 'Fat': 0.3} }\n",
    "\n",
    "\n",
    "# setup the model\n",
    "m = model_setup()\n",
    "\n",
    "# Solving the model\n",
    "m.optimize()\n",
    "\n",
    "\n",
    "print(\"\\n Optimal intake of fruit is\")\n",
    "#  Print optimal solutions \n",
    "for v in m.getVars():\n",
    "    print(v.VarName, v.x)"
   ]
  },
  {
   "cell_type": "code",
   "execution_count": null,
   "metadata": {},
   "outputs": [],
   "source": []
  }
 ],
 "metadata": {
  "kernelspec": {
   "display_name": "Python 3",
   "language": "python",
   "name": "python3"
  },
  "language_info": {
   "codemirror_mode": {
    "name": "ipython",
    "version": 3
   },
   "file_extension": ".py",
   "mimetype": "text/x-python",
   "name": "python",
   "nbconvert_exporter": "python",
   "pygments_lexer": "ipython3",
   "version": "3.6.4"
  }
 },
 "nbformat": 4,
 "nbformat_minor": 2
}
