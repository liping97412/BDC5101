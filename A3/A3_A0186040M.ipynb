{
 "cells": [
  {
   "cell_type": "markdown",
   "metadata": {},
   "source": [
    "## Assignment3    A0186040M"
   ]
  },
  {
   "cell_type": "markdown",
   "metadata": {},
   "source": [
    "## Q1"
   ]
  },
  {
   "cell_type": "code",
   "execution_count": 2,
   "metadata": {},
   "outputs": [],
   "source": [
    "from gurobipy import *\n",
    "import numpy as np\n",
    "\n",
    "supply = np.array([100, 100, 100, 100, 100, 100])\n",
    "N = len(supply)\n",
    "demand = np.array([100, 100, 100, 100, 100, 100])\n",
    "M = len(demand)"
   ]
  },
  {
   "cell_type": "code",
   "execution_count": 2,
   "metadata": {},
   "outputs": [],
   "source": [
    "#########Model Set-up Using Function###############\n",
    "\n",
    "def model_setup():\n",
    "    \n",
    "    m = Model(\"Process_Flexi\")\n",
    "    \n",
    "    # number of weeks to offer price level i\n",
    "    x = m.addVars(ARCS, name = \"x\")\n",
    "\n",
    "    # set objective\n",
    "    m.setObjective( quicksum(x[i,j] for (i,j) in ARCS), GRB.MAXIMIZE)\n",
    "\n",
    "    # capcity constraint: \n",
    "    m.addConstrs( ( quicksum(x[i,j] for (i,j) in ARCS.select(i,'*')) <= supply[i] for i in range(N)), \"capacity\")\n",
    "\n",
    "    # demand constraint: \n",
    "    m.addConstrs( ( quicksum(x[i,j] for (i,j) in ARCS.select('*',j)) <= demand[j] for j in range(M) ), \"demand\")\n",
    "    \n",
    "    #Supressing the optimization output\n",
    "    m.setParam( 'OutputFlag', False )\n",
    "    \n",
    "    return m\n"
   ]
  },
  {
   "cell_type": "code",
   "execution_count": 3,
   "metadata": {},
   "outputs": [
    {
     "name": "stdout",
     "output_type": "stream",
     "text": [
      "Academic license - for non-commercial use only\n",
      "Average maximum sales for open chain design: 558.2499366880537\n"
     ]
    }
   ],
   "source": [
    "#########Evaluate the open chain design for Random Demand############\n",
    "ARCS = tuplelist([(0,0),(0,1), (1,1),(1,2), (2,2),(2,3), (3,3),(3,4), (4,4),(4,5), (5,5)])\n",
    "\n",
    "\n",
    "#mean of the demand\n",
    "mean = np.array([100, 100, 100, 100, 100, 100])\n",
    "\n",
    "#covariance matrix of the demand (independent with s.d. 30)\n",
    "cov = np.array([[900, 0, 0, 0, 0, 0], \n",
    "                [0, 900, 0, 0, 0, 0],\n",
    "                [0, 0, 900, 0, 0, 0],\n",
    "                [0, 0, 0, 900, 0, 0],\n",
    "                [0, 0, 0, 0, 900, 0],\n",
    "                [0, 0, 0, 0, 0, 900]])\n",
    "\n",
    "Sample_Size = 1000\n",
    "\n",
    "sales_open = np.zeros(Sample_Size)\n",
    "\n",
    "np.random.seed(123)\n",
    "for i in range(Sample_Size):\n",
    "    \n",
    "    # demand is sampled from multivariate normal distribution with mean and cov (and truncated above zero)\n",
    "    demand = np.maximum(np.random.multivariate_normal(mean, cov), 0)\n",
    "    \n",
    "    # setup the model again\n",
    "    m = model_setup()\n",
    "\n",
    "    # solving the model\n",
    "    m.optimize()\n",
    "    \n",
    "    # store the maximum sales for the i-th sample\n",
    "    sales_open[i] = m.objVal\n",
    "\n",
    "# compute the average of maximum sales\n",
    "avg_sales_open = np.average(sales_open)    \n",
    "\n",
    "print('Average maximum sales for open chain design:', avg_sales_open)"
   ]
  },
  {
   "cell_type": "code",
   "execution_count": 4,
   "metadata": {},
   "outputs": [
    {
     "name": "stdout",
     "output_type": "stream",
     "text": [
      "Average maximum sales for long chain design: 571.872486731333\n"
     ]
    }
   ],
   "source": [
    "#########Evaluate the long chain design for Random Demand############\n",
    "ARCS = tuplelist([(0,0),(0,1), (1,1),(1,2), (2,2),(2,3), (3,3),(3,4), (4,4),(4,5), (5,5),(5,0)])\n",
    "\n",
    "\n",
    "#mean of the demand\n",
    "mean = np.array([100, 100, 100, 100, 100, 100])\n",
    "\n",
    "#covariance matrix of the demand (independent with s.d. 30)\n",
    "cov = np.array([[900, 0, 0, 0, 0, 0], \n",
    "                [0, 900, 0, 0, 0, 0],\n",
    "                [0, 0, 900, 0, 0, 0],\n",
    "                [0, 0, 0, 900, 0, 0],\n",
    "                [0, 0, 0, 0, 900, 0],\n",
    "                [0, 0, 0, 0, 0, 900]])\n",
    "\n",
    "Sample_Size = 1000\n",
    "\n",
    "sales_long = np.zeros(Sample_Size)\n",
    "\n",
    "np.random.seed(123)\n",
    "for i in range(Sample_Size):\n",
    "    \n",
    "    # demand is sampled from multivariate normal distribution with mean and cov (and truncated above zero)\n",
    "    demand = np.maximum(np.random.multivariate_normal(mean, cov), 0)\n",
    "    \n",
    "    # setup the model again\n",
    "    m = model_setup()\n",
    "\n",
    "    # solving the model\n",
    "    m.optimize()\n",
    "    \n",
    "    # store the maximum sales for the i-th sample\n",
    "    sales_long[i] = m.objVal\n",
    "\n",
    "# compute the average of maximum sales\n",
    "avg_sales_long = np.average(sales_long)    \n",
    "\n",
    "print('Average maximum sales for long chain design:', avg_sales_long)"
   ]
  },
  {
   "cell_type": "markdown",
   "metadata": {},
   "source": [
    "## Q2"
   ]
  },
  {
   "cell_type": "markdown",
   "metadata": {},
   "source": [
    "(a)"
   ]
  },
  {
   "cell_type": "code",
   "execution_count": 5,
   "metadata": {},
   "outputs": [],
   "source": [
    "supply = np.array([300, 500, 500])\n",
    "N = len(supply)\n",
    "demand = np.array([300, 500, 500])\n",
    "M = len(demand)"
   ]
  },
  {
   "cell_type": "code",
   "execution_count": 6,
   "metadata": {},
   "outputs": [
    {
     "name": "stdout",
     "output_type": "stream",
     "text": [
      "Average maximum sales : 1268.8236304807747\n"
     ]
    }
   ],
   "source": [
    "#########Evaluate the open chain design for Random Demand############\n",
    "ARCS = tuplelist([(0,0),(1,1),(2,2)])\n",
    "\n",
    "\n",
    "#mean of the demand\n",
    "mean = np.array([300, 500, 500])\n",
    "\n",
    "#covariance matrix of the demand (independent with s.d. 30)\n",
    "cov = np.array([[400, 0, 0], \n",
    "                [0, 400, 0],\n",
    "                [0, 0, 1600]])\n",
    "\n",
    "Sample_Size = 1000\n",
    "\n",
    "sales_open = np.zeros(Sample_Size)\n",
    "\n",
    "np.random.seed(123)\n",
    "for i in range(Sample_Size):\n",
    "    \n",
    "    # demand is sampled from multivariate normal distribution with mean and cov (and truncated above zero)\n",
    "    demand = np.maximum(np.random.multivariate_normal(mean, cov), 0)\n",
    "    \n",
    "    # setup the model again\n",
    "    m = model_setup()\n",
    "\n",
    "    # solving the model\n",
    "    m.optimize()\n",
    "    \n",
    "    # store the maximum sales for the i-th sample\n",
    "    sales_open[i] = m.objVal\n",
    "\n",
    "# compute the average of maximum sales\n",
    "avg_sales_open = np.average(sales_open)    \n",
    "\n",
    "print('Average maximum sales :', avg_sales_open)"
   ]
  },
  {
   "cell_type": "markdown",
   "metadata": {},
   "source": [
    "(c)"
   ]
  },
  {
   "cell_type": "code",
   "execution_count": 7,
   "metadata": {},
   "outputs": [],
   "source": [
    "supply = np.array([300, 500, 500])\n",
    "N = len(supply)\n",
    "M = N\n",
    "\n",
    "cost = np.array([[0, 22, 19], \n",
    "                [22, 0, 7],\n",
    "                [19, 7, 0]])"
   ]
  },
  {
   "cell_type": "code",
   "execution_count": 8,
   "metadata": {},
   "outputs": [],
   "source": [
    "def model_setup():\n",
    "    \n",
    "    m = Model(\"Process_Flexi\")\n",
    "    \n",
    "    # number of weeks to offer price level i\n",
    "    x = m.addVars(ARCS, name = \"x\")\n",
    "\n",
    "    # set objective\n",
    "    m.setObjective( quicksum((100-cost[i,j])*x[i,j] for (i,j) in ARCS)-200-1300*50, GRB.MAXIMIZE)\n",
    "\n",
    "    # capcity constraint: \n",
    "    m.addConstrs( ( quicksum(x[i,j] for (i,j) in ARCS.select(i,'*')) <= supply[i] for i in range(N)), \"capacity\")\n",
    "\n",
    "    # demand constraint: \n",
    "    m.addConstrs( ( quicksum(x[i,j] for (i,j) in ARCS.select('*',j)) <= demand[j] for j in range(M) ), \"demand\")\n",
    "    \n",
    "    #Supressing the optimization output\n",
    "    m.setParam( 'OutputFlag', False )\n",
    "    \n",
    "    return m\n"
   ]
  },
  {
   "cell_type": "code",
   "execution_count": 9,
   "metadata": {},
   "outputs": [
    {
     "name": "stdout",
     "output_type": "stream",
     "text": [
      "Average maximum profit : 62680.0774000502\n"
     ]
    }
   ],
   "source": [
    "#########Evaluate the open chain design for Random Demand############\n",
    "ARCS = tuplelist([(0,0),(0,1),(0,2),\n",
    "                  (1,0),(1,1),(1,2),\n",
    "                  (2,0),(2,1),(2,2)])\n",
    "\n",
    "\n",
    "#mean of the demand\n",
    "mean = np.array([300, 500, 500])\n",
    "\n",
    "#covariance matrix of the demand (independent with s.d. 30)\n",
    "cov = np.array([[400, 0, 0], \n",
    "                [0, 400, 0],\n",
    "                [0, 0, 1600]])\n",
    "\n",
    "Sample_Size = 10000\n",
    "\n",
    "profit = np.zeros(Sample_Size)\n",
    "\n",
    "np.random.seed(12)\n",
    "for i in range(Sample_Size):\n",
    "    \n",
    "    # demand is sampled from multivariate normal distribution with mean and cov (and truncated above zero)\n",
    "    demand = np.maximum(np.random.multivariate_normal(mean, cov), 0)\n",
    "    \n",
    "    # setup the model again\n",
    "    m = model_setup()\n",
    "\n",
    "    # solving the model\n",
    "    m.optimize()\n",
    "    \n",
    "    # store the maximum sales for the i-th sample\n",
    "    profit[i] = m.objVal\n",
    "\n",
    "# compute the average of maximum sales\n",
    "avg_profit = np.average(profit)    \n",
    "\n",
    "print('Average maximum profit :', avg_profit)"
   ]
  },
  {
   "cell_type": "markdown",
   "metadata": {},
   "source": [
    "## Q4"
   ]
  },
  {
   "cell_type": "code",
   "execution_count": 3,
   "metadata": {},
   "outputs": [],
   "source": [
    "cost = np.array([[1000,3,3,10,9,10], \n",
    "                 [3,1000,3,7,6,7],\n",
    "                 [3,3,1000,7,6,7],\n",
    "                 [10,7,7,1000,1,2],\n",
    "                 [9,6,6,1,1000,1],\n",
    "                 [10,7,7,2,1,1000]])\n",
    "N = cost.shape[0]\n",
    "\n",
    "#the big M\n",
    "M = 10000"
   ]
  },
  {
   "cell_type": "code",
   "execution_count": 4,
   "metadata": {},
   "outputs": [
    {
     "name": "stdout",
     "output_type": "stream",
     "text": [
      "Academic license - for non-commercial use only\n",
      "Optimize a model with 42 rows, 42 columns and 152 nonzeros\n",
      "Variable types: 6 continuous, 36 integer (36 binary)\n",
      "Coefficient statistics:\n",
      "  Matrix range     [1e+00, 1e+04]\n",
      "  Objective range  [1e+00, 1e+03]\n",
      "  Bounds range     [1e+00, 1e+00]\n",
      "  RHS range        [1e+00, 1e+04]\n",
      "Found heuristic solution: objective 37.0000000\n",
      "Presolve removed 5 rows and 7 columns\n",
      "Presolve time: 0.00s\n",
      "Presolved: 37 rows, 35 columns, 150 nonzeros\n",
      "Variable types: 5 continuous, 30 integer (30 binary)\n",
      "\n",
      "Root relaxation: objective 1.300000e+01, 17 iterations, 0.00 seconds\n",
      "\n",
      "    Nodes    |    Current Node    |     Objective Bounds      |     Work\n",
      " Expl Unexpl |  Obj  Depth IntInf | Incumbent    BestBd   Gap | It/Node Time\n",
      "\n",
      "     0     0   13.00000    0    6   37.00000   13.00000  64.9%     -    0s\n",
      "H    0     0                      25.0000000   13.00000  48.0%     -    0s\n",
      "     0     0   13.00000    0    6   25.00000   13.00000  48.0%     -    0s\n",
      "H    0     0                      22.0000000   13.00000  40.9%     -    0s\n",
      "     0     0 infeasible    0        22.00000   22.00000  0.00%     -    0s\n",
      "\n",
      "Explored 1 nodes (26 simplex iterations) in 0.33 seconds\n",
      "Thread count was 4 (of 4 available processors)\n",
      "\n",
      "Solution count 3: 22 25 37 \n",
      "\n",
      "Optimal solution found (tolerance 1.00e-04)\n",
      "Best objective 2.200000000000e+01, best bound 2.200000000000e+01, gap 0.0000%\n"
     ]
    }
   ],
   "source": [
    "#########Model Set-up############\n",
    "\n",
    "\n",
    "tsp = Model(\"traveling_salesman\")\n",
    "\n",
    "# Creat variables\n",
    "x = tsp.addVars(N, N, vtype=GRB.BINARY, name = \"x\")\n",
    "\n",
    "u = tsp.addVars(N, name = \"u\")\n",
    "\n",
    "# Set objective\n",
    "tsp.setObjective( quicksum(cost[i,j]*x[i,j] for i in range(N) for j in range(N)), GRB.MINIMIZE)\n",
    "\n",
    "# Assignment constraints:\n",
    "tsp.addConstrs(( quicksum(x[i,j] for j in range(N)) == 1 for i in range(N) ))\n",
    " \n",
    "tsp.addConstrs(( quicksum(x[i,j] for i in range(N)) == 1 for j in range(N) ))\n",
    "\n",
    "# Subtour-breaking constraints:\n",
    "tsp.addConstrs(( u[i] + 1 - u[j] <= M*(1 - x[i,j])  for i in range(N) for j in range(1,N) ))\n",
    "\n",
    "\n",
    "# Solving the model\n",
    "tsp.optimize()\n"
   ]
  },
  {
   "cell_type": "code",
   "execution_count": 5,
   "metadata": {},
   "outputs": [
    {
     "name": "stdout",
     "output_type": "stream",
     "text": [
      "x[0,2] 1.0\n",
      "x[1,0] 1.0\n",
      "x[2,3] 1.0\n",
      "x[3,4] 1.0\n",
      "x[4,5] 1.0\n",
      "x[5,1] 1.0\n",
      "Obj: 22.0\n",
      "[array([1, 3]), array([2, 1]), array([3, 4]), array([4, 5]), array([5, 6]), array([6, 2])]\n",
      "u[0] 0.0\n",
      "u[1] 5.0\n",
      "u[2] 1.0\n",
      "u[3] 2.0\n",
      "u[4] 3.0\n",
      "u[5] 4.0\n"
     ]
    }
   ],
   "source": [
    "#  Print optimal x for x nonzero and optimal value\n",
    "s_edge = []\n",
    "for v in x:    \n",
    "    if x[v].x > 0.001:\n",
    "        print(x[v].VarName, x[v].x)\n",
    "        #add both of the indicies by 1\n",
    "        edge = np.add(v, (1,1))\n",
    "        #append the edge to the resulting list of edges\n",
    "        s_edge.append(edge)\n",
    "\n",
    "\n",
    "print('Obj:', tsp.objVal)\n",
    "print(s_edge)\n",
    "for v in u: \n",
    "    print(u[v].VarName, u[v].x)"
   ]
  },
  {
   "cell_type": "markdown",
   "metadata": {},
   "source": [
    "(b)"
   ]
  },
  {
   "cell_type": "code",
   "execution_count": 19,
   "metadata": {},
   "outputs": [
    {
     "name": "stdout",
     "output_type": "stream",
     "text": [
      "Optimize a model with 48 rows, 42 columns and 158 nonzeros\n",
      "Variable types: 6 continuous, 36 integer (36 binary)\n",
      "Coefficient statistics:\n",
      "  Matrix range     [1e+00, 1e+04]\n",
      "  Objective range  [1e+00, 1e+03]\n",
      "  Bounds range     [1e+00, 1e+00]\n",
      "  RHS range        [1e+00, 1e+04]\n",
      "Presolve removed 22 rows and 17 columns\n",
      "Presolve time: 0.00s\n",
      "Presolved: 26 rows, 25 columns, 134 nonzeros\n",
      "Variable types: 4 continuous, 21 integer (21 binary)\n",
      "\n",
      "Root relaxation: objective 1.300000e+01, 15 iterations, 0.00 seconds\n",
      "\n",
      "    Nodes    |    Current Node    |     Objective Bounds      |     Work\n",
      " Expl Unexpl |  Obj  Depth IntInf | Incumbent    BestBd   Gap | It/Node Time\n",
      "\n",
      "     0     0   13.00000    0    6          -   13.00000      -     -    0s\n",
      "H    0     0                      25.0000000   13.00000  48.0%     -    0s\n",
      "     0     0   13.00000    0    6   25.00000   13.00000  48.0%     -    0s\n",
      "     0     0   13.00000    0    6   25.00000   13.00000  48.0%     -    0s\n",
      "     0     0   13.57143    0   11   25.00000   13.57143  45.7%     -    0s\n",
      "     0     0   13.70588    0   11   25.00000   13.70588  45.2%     -    0s\n",
      "     0     0   15.25000    0   11   25.00000   15.25000  39.0%     -    0s\n",
      "     0     0   15.25000    0   11   25.00000   15.25000  39.0%     -    0s\n",
      "     0     0   16.05357    0   11   25.00000   16.05357  35.8%     -    0s\n",
      "     0     0   16.05357    0   13   25.00000   16.05357  35.8%     -    0s\n",
      "     0     0   16.05357    0    9   25.00000   16.05357  35.8%     -    0s\n",
      "     0     2   16.05357    0    9   25.00000   16.05357  35.8%     -    0s\n",
      "\n",
      "Cutting planes:\n",
      "  Clique: 1\n",
      "  MIR: 2\n",
      "\n",
      "Explored 16 nodes (94 simplex iterations) in 0.29 seconds\n",
      "Thread count was 4 (of 4 available processors)\n",
      "\n",
      "Solution count 1: 25 \n",
      "\n",
      "Optimal solution found (tolerance 1.00e-04)\n",
      "Best objective 2.500000000000e+01, best bound 2.500000000000e+01, gap 0.0000%\n"
     ]
    }
   ],
   "source": [
    "#########Model Set-up############\n",
    "cost = np.array([[1000,3,3,10,9,10], \n",
    "                 [3,1000,3,7,6,7],\n",
    "                 [3,3,1000,7,6,7],\n",
    "                 [10,7,7,1000,1,2],\n",
    "                 [9,6,6,1,1000,1],\n",
    "                 [10,7,7,2,1,1000]])\n",
    "waiting_time = np.array([0,5,10,15,13,14])\n",
    "tsp = Model(\"traveling_salesman\")\n",
    "\n",
    "# Creat variables\n",
    "x = tsp.addVars(N, N, vtype=GRB.BINARY, name = \"x\")\n",
    "\n",
    "u = tsp.addVars(N, name = \"u\")\n",
    "\n",
    "# Set objective\n",
    "tsp.setObjective( quicksum(cost[i,j]*x[i,j] for i in range(N) for j in range(N)), GRB.MINIMIZE)\n",
    "\n",
    "# Assignment constraints:\n",
    "tsp.addConstrs(( quicksum(x[i,j] for j in range(N)) == 1 for i in range(N) ))\n",
    " \n",
    "tsp.addConstrs(( quicksum(x[i,j] for i in range(N)) == 1 for j in range(N) ))\n",
    "\n",
    "\n",
    "# Subtour-breaking constraints:\n",
    "tsp.addConstrs(( u[i] + cost[i,j] - u[j] <= M*(1 - x[i,j])  for i in range(N) for j in range(1,N)))\n",
    "tsp.addConstrs((u[i] <= waiting_time[i] for i in range(N)))\n",
    "\n",
    "# Solving the model\n",
    "tsp.optimize()\n"
   ]
  },
  {
   "cell_type": "code",
   "execution_count": 20,
   "metadata": {},
   "outputs": [
    {
     "name": "stdout",
     "output_type": "stream",
     "text": [
      "x[0,1] 1.0\n",
      "x[1,2] 1.0\n",
      "x[2,4] 1.0\n",
      "x[3,0] 1.0\n",
      "x[4,5] 1.0\n",
      "x[5,3] 1.0\n",
      "Obj: 25.0\n",
      "[array([1, 2]), array([2, 3]), array([3, 5]), array([4, 1]), array([5, 6]), array([6, 4])]\n",
      "u[0] 0.0\n",
      "u[1] 3.0\n",
      "u[2] 6.0\n",
      "u[3] 15.0\n",
      "u[4] 11.99999999999994\n",
      "u[5] 13.0\n"
     ]
    }
   ],
   "source": [
    "#  Print optimal x for x nonzero and optimal value\n",
    "s_edge = []\n",
    "for v in x:    \n",
    "    if x[v].x > 0.001:\n",
    "        print(x[v].VarName, x[v].x)\n",
    "        #add both of the indicies by 1\n",
    "        edge = np.add(v, (1,1))\n",
    "        #append the edge to the resulting list of edges\n",
    "        s_edge.append(edge)\n",
    "\n",
    "\n",
    "print('Obj:', tsp.objVal)\n",
    "print(s_edge)\n",
    "for v in u: \n",
    "    print(u[v].VarName, u[v].x)"
   ]
  },
  {
   "cell_type": "markdown",
   "metadata": {},
   "source": [
    "## Q5"
   ]
  },
  {
   "cell_type": "markdown",
   "metadata": {},
   "source": [
    "(b)"
   ]
  },
  {
   "cell_type": "code",
   "execution_count": 20,
   "metadata": {},
   "outputs": [
    {
     "name": "stdout",
     "output_type": "stream",
     "text": [
      "Optimize a model with 14 rows, 15 columns and 47 nonzeros\n",
      "Variable types: 10 continuous, 5 integer (5 binary)\n",
      "Coefficient statistics:\n",
      "  Matrix range     [1e+00, 1e+03]\n",
      "  Objective range  [2e-01, 2e+00]\n",
      "  Bounds range     [1e+00, 1e+00]\n",
      "  RHS range        [2e+00, 1e+01]\n",
      "Presolve removed 4 rows and 2 columns\n",
      "Presolve time: 0.00s\n",
      "Presolved: 10 rows, 13 columns, 26 nonzeros\n",
      "Variable types: 8 continuous, 5 integer (5 binary)\n",
      "\n",
      "Root relaxation: objective 2.600000e+00, 8 iterations, 0.00 seconds\n",
      "\n",
      "    Nodes    |    Current Node    |     Objective Bounds      |     Work\n",
      " Expl Unexpl |  Obj  Depth IntInf | Incumbent    BestBd   Gap | It/Node Time\n",
      "\n",
      "     0     0    2.60000    0    4          -    2.60000      -     -    0s\n",
      "H    0     0                       8.6000000    2.60000  69.8%     -    0s\n",
      "H    0     0                       4.8000000    2.60000  45.8%     -    0s\n",
      "     0     0    4.00000    0    4    4.80000    4.00000  16.7%     -    0s\n",
      "     0     0     cutoff    0         4.80000    4.80000  0.00%     -    0s\n",
      "\n",
      "Cutting planes:\n",
      "  Gomory: 3\n",
      "  MIR: 1\n",
      "  Flow cover: 2\n",
      "\n",
      "Explored 1 nodes (17 simplex iterations) in 0.29 seconds\n",
      "Thread count was 4 (of 4 available processors)\n",
      "\n",
      "Solution count 2: 4.8 8.6 \n",
      "\n",
      "Optimal solution found (tolerance 1.00e-04)\n",
      "Best objective 4.800000000000e+00, best bound 4.800000000000e+00, gap 0.0000%\n"
     ]
    }
   ],
   "source": [
    "#########Model Set-up############\n",
    "setup_cost = 2\n",
    "holding_cost = 0.2\n",
    "M = 1000\n",
    "d = np.array([0,3,2,3,2])\n",
    "model = Model(\"production_problem\")\n",
    "\n",
    "# Creat variables\n",
    "x = model.addVars(5,name = \"x\")\n",
    "y = model.addVars(5,name = \"y\")\n",
    "\n",
    "u = model.addVars(5,vtype=GRB.BINARY, name = \"u\")\n",
    "\n",
    "# Set objective\n",
    "model.setObjective(0.2*quicksum(x[i] for i in range(5))+2*quicksum(u[i] for i in range(5)), GRB.MINIMIZE)\n",
    "\n",
    "# Assignment constraints:\n",
    "model.addConstrs(x[i-1] + y[i] - x[i] == d[i] for i in range(1,5))\n",
    "\n",
    "model.addConstrs((quicksum(y[i] for i in range(5)) == 10 for i in range(5)))\n",
    "\n",
    "model.addConstrs(y[i]<= M*u[i] for i in range(5))\n",
    "\n",
    "#model.addConstrs(x[0]==0)\n",
    "\n",
    "\n",
    "# Solving the model\n",
    "model.optimize()\n"
   ]
  },
  {
   "cell_type": "code",
   "execution_count": 23,
   "metadata": {},
   "outputs": [
    {
     "name": "stdout",
     "output_type": "stream",
     "text": [
      "y[1] 5.0\n",
      "y[3] 5.0\n",
      "Obj: 4.8\n"
     ]
    }
   ],
   "source": [
    "#  Print optimal x for x nonzero and optimal value\n",
    "s_edge = []\n",
    "for v in y:    \n",
    "    if y[v].x > 0.001:\n",
    "        print(y[v].VarName, y[v].x)\n",
    "        #add both of the indicies by 1\n",
    "        edge = np.add(v, (1,1))\n",
    "        #append the edge to the resulting list of edges\n",
    "        s_edge.append(edge)\n",
    "\n",
    "print('Obj:', model.objVal)"
   ]
  },
  {
   "cell_type": "code",
   "execution_count": 24,
   "metadata": {},
   "outputs": [
    {
     "name": "stdout",
     "output_type": "stream",
     "text": [
      "x[1] 2.0\n",
      "x[3] 2.0\n"
     ]
    }
   ],
   "source": [
    "s_edge = []\n",
    "for v in x:    \n",
    "    if x[v].x > 0.001:\n",
    "        print(x[v].VarName, x[v].x)\n",
    "        #add both of the indicies by 1\n",
    "        edge = np.add(v, (1,1))\n",
    "        #append the edge to the resulting list of edges\n",
    "        s_edge.append(edge)"
   ]
  },
  {
   "cell_type": "markdown",
   "metadata": {},
   "source": [
    "(c)"
   ]
  },
  {
   "cell_type": "code",
   "execution_count": 31,
   "metadata": {},
   "outputs": [
    {
     "name": "stdout",
     "output_type": "stream",
     "text": [
      "Optimize a model with 19 rows, 15 columns and 52 nonzeros\n",
      "Coefficient statistics:\n",
      "  Matrix range     [1e+00, 1e+04]\n",
      "  Objective range  [2e-01, 2e+00]\n",
      "  Bounds range     [0e+00, 0e+00]\n",
      "  RHS range        [1e+00, 1e+01]\n",
      "Presolve removed 14 rows and 5 columns\n",
      "Presolve time: 0.01s\n",
      "Presolved: 5 rows, 10 columns, 17 nonzeros\n",
      "\n",
      "Iteration    Objective       Primal Inf.    Dual Inf.      Time\n",
      "       0    2.0000000e-03   0.000000e+00   0.000000e+00      0s\n",
      "       0    2.0000000e-03   0.000000e+00   0.000000e+00      0s\n",
      "\n",
      "Solved in 0 iterations and 0.02 seconds\n",
      "Optimal objective  2.000000000e-03\n"
     ]
    }
   ],
   "source": [
    "#########Model Set-up############\n",
    "setup_cost = 2\n",
    "holding_cost = 0.2\n",
    "M = 10000\n",
    "d = np.array([0,3,2,3,2])\n",
    "model = Model(\"production_problem\")\n",
    "\n",
    "# Creat variables\n",
    "x = model.addVars(5,name = \"x\")\n",
    "y = model.addVars(5,name = \"y\")\n",
    "\n",
    "u = model.addVars(5, name = \"u\")\n",
    "\n",
    "# Set objective\n",
    "model.setObjective(0.2*quicksum(x[i] for i in range(5))+2*quicksum(u[i] for i in range(5)), GRB.MINIMIZE)\n",
    "\n",
    "# Assignment constraints:\n",
    "model.addConstrs(x[i-1] + y[i] - x[i] == d[i] for i in range(1,5))\n",
    "\n",
    "model.addConstrs((quicksum(y[i] for i in range(5)) == 10 for i in range(5)))\n",
    "\n",
    "model.addConstrs(y[i]<= M*u[i] for i in range(5))\n",
    "\n",
    "model.addConstrs(u[i] <= 1 for i in range(5))\n",
    "#model.addConstrs(x[0]==0)\n",
    "\n",
    "\n",
    "# Solving the model\n",
    "model.optimize()\n"
   ]
  },
  {
   "cell_type": "code",
   "execution_count": 32,
   "metadata": {},
   "outputs": [
    {
     "name": "stdout",
     "output_type": "stream",
     "text": [
      "Obj: 0.002\n"
     ]
    }
   ],
   "source": [
    "#  Print optimal x for x nonzero and optimal value\n",
    "print('Obj:', model.objVal)"
   ]
  }
 ],
 "metadata": {
  "kernelspec": {
   "display_name": "Python 3",
   "language": "python",
   "name": "python3"
  },
  "language_info": {
   "codemirror_mode": {
    "name": "ipython",
    "version": 3
   },
   "file_extension": ".py",
   "mimetype": "text/x-python",
   "name": "python",
   "nbconvert_exporter": "python",
   "pygments_lexer": "ipython3",
   "version": "3.6.4"
  }
 },
 "nbformat": 4,
 "nbformat_minor": 2
}
